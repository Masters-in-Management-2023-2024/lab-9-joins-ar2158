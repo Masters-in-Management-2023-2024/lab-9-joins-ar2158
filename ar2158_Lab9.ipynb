{
  "cells": [
    {
      "cell_type": "markdown",
      "metadata": {
        "id": "gs_wOGI5yU1w"
      },
      "source": [
        "# OPAN5510 Lab Assignment - Joins\n",
        "\n",
        "This lab focuses on using Polars to perform data joins and aggregations to answer business questions."
      ]
    },
    {
      "cell_type": "markdown",
      "metadata": {
        "id": "1RC5vZJsyU1x"
      },
      "source": [
        "# Bike Trips Dataset\n",
        "\n",
        "## Prerequisites\n",
        "\n",
        "For this assignment, you'll need to use Polars for data manipulation.\n",
        "\n",
        "*Insert a code block to import necessary packages (polars)*"
      ]
    },
    {
      "cell_type": "code",
      "execution_count": 1,
      "metadata": {
        "id": "U6sEu6oqyU1x"
      },
      "outputs": [],
      "source": [
        "# Import necessary packages\n",
        "import polars as pl"
      ]
    },
    {
      "cell_type": "markdown",
      "metadata": {
        "id": "BcAhQENByU1x"
      },
      "source": [
        "## Load Datasets\n",
        "\n",
        "Load the `bike_trips.csv` and `bike_weather.csv` files into Polars DataFrames called `trips` and `weather`, respectively.\n",
        "\n",
        "*Insert code block that reads these files into Polars DataFrames*"
      ]
    },
    {
      "cell_type": "code",
      "execution_count": 2,
      "metadata": {
        "colab": {
          "base_uri": "https://localhost:8080/"
        },
        "id": "O1NJ_d1SyU1x",
        "outputId": "2e53f3c2-971c-4f00-e974-65a4a6e23938"
      },
      "outputs": [
        {
          "output_type": "stream",
          "name": "stdout",
          "text": [
            "78704\n",
            "733\n"
          ]
        }
      ],
      "source": [
        "# Load the bike trips and weather data\n",
        "trips = pl.read_csv(\"https://raw.githubusercontent.com/philhetzel/opan5510-class9/refs/heads/main/data/bike_trips.csv\", null_values='NA')\n",
        "weather = pl.read_csv(\"https://raw.githubusercontent.com/philhetzel/opan5510-class9/refs/heads/main/data/bike_weather.csv\", null_values=['NA',''])\n",
        "\n",
        "trips = trips.with_columns(pl.col(\"date\").str.strptime(pl.Date, \"%Y-%m-%d\").alias(\"date\")) # ensure date column is typed correctly\n",
        "weather = weather.with_columns(pl.col(\"date\").str.strptime(pl.Date, \"%Y-%m-%d\").alias(\"date\")) # ensure date column is typed correctly\n",
        "print(trips.height)\n",
        "print(weather.height)"
      ]
    },
    {
      "cell_type": "code",
      "source": [
        "trips"
      ],
      "metadata": {
        "colab": {
          "base_uri": "https://localhost:8080/",
          "height": 617
        },
        "id": "9t4-uA_H2L-0",
        "outputId": "d070bfae-09ab-4b52-e3df-b7f2559c69f9"
      },
      "execution_count": 3,
      "outputs": [
        {
          "output_type": "execute_result",
          "data": {
            "text/plain": [
              "shape: (78_704, 12)\n",
              "┌────────┬──────────┬─────────────┬─────────────┬───┬─────────┬────────────┬──────────┬────────────┐\n",
              "│ id     ┆ duration ┆ start_date  ┆ start_stati ┆ … ┆ bike_id ┆ subscripti ┆ zip_code ┆ date       │\n",
              "│ ---    ┆ ---      ┆ ---         ┆ on_name     ┆   ┆ ---     ┆ on_type    ┆ ---      ┆ ---        │\n",
              "│ i64    ┆ i64      ┆ str         ┆ ---         ┆   ┆ i64     ┆ ---        ┆ i64      ┆ date       │\n",
              "│        ┆          ┆             ┆ str         ┆   ┆         ┆ str        ┆          ┆            │\n",
              "╞════════╪══════════╪═════════════╪═════════════╪═══╪═════════╪════════════╪══════════╪════════════╡\n",
              "│ 4721   ┆ 3        ┆ 2013-08-29T ┆ Market at   ┆ … ┆ 416     ┆ Subscriber ┆ 94107    ┆ 2013-08-29 │\n",
              "│        ┆          ┆ 20:27:00Z   ┆ 10th        ┆   ┆         ┆            ┆          ┆            │\n",
              "│ 4812   ┆ 3        ┆ 2013-08-29T ┆ 2nd at      ┆ … ┆ 409     ┆ Subscriber ┆ 94107    ┆ 2013-08-29 │\n",
              "│        ┆          ┆ 21:30:00Z   ┆ Folsom      ┆   ┆         ┆            ┆          ┆            │\n",
              "│ 4705   ┆ 3        ┆ 2013-08-29T ┆ Golden Gate ┆ … ┆ 519     ┆ Subscriber ┆ 94107    ┆ 2013-08-29 │\n",
              "│        ┆          ┆ 20:15:00Z   ┆ at Polk     ┆   ┆         ┆            ┆          ┆            │\n",
              "│ 4841   ┆ 3        ┆ 2013-08-29T ┆ University  ┆ … ┆ 83      ┆ Subscriber ┆ 94107    ┆ 2013-08-29 │\n",
              "│        ┆          ┆ 21:48:00Z   ┆ and Emerson ┆   ┆         ┆            ┆          ┆            │\n",
              "│ 4668   ┆ 4        ┆ 2013-08-29T ┆ San         ┆ … ┆ 489     ┆ Subscriber ┆ 94107    ┆ 2013-08-29 │\n",
              "│        ┆          ┆ 19:39:00Z   ┆ Francisco   ┆   ┆         ┆            ┆          ┆            │\n",
              "│        ┆          ┆             ┆ Caltrain 2  ┆   ┆         ┆            ┆          ┆            │\n",
              "│        ┆          ┆             ┆ (330 …      ┆   ┆         ┆            ┆          ┆            │\n",
              "│ …      ┆ …        ┆ …           ┆ …           ┆ … ┆ …       ┆ …          ┆ …        ┆ …          │\n",
              "│ 433040 ┆ 3        ┆ 2014-09-01T ┆ Townsend at ┆ … ┆ 111     ┆ Subscriber ┆ 94107    ┆ 2014-09-01 │\n",
              "│        ┆          ┆ 14:43:00Z   ┆ 7th         ┆   ┆         ┆            ┆          ┆            │\n",
              "│ 433035 ┆ 9        ┆ 2014-09-01T ┆ Powell      ┆ … ┆ 376     ┆ Subscriber ┆ 94107    ┆ 2014-09-01 │\n",
              "│        ┆          ┆ 14:37:00Z   ┆ Street BART ┆   ┆         ┆            ┆          ┆            │\n",
              "│ 433030 ┆ 6        ┆ 2014-09-01T ┆ Powell      ┆ … ┆ 421     ┆ Subscriber ┆ 94107    ┆ 2014-09-01 │\n",
              "│        ┆          ┆ 14:31:00Z   ┆ Street BART ┆   ┆         ┆            ┆          ┆            │\n",
              "│ 433004 ┆ 7        ┆ 2014-09-01T ┆ Steuart at  ┆ … ┆ 449     ┆ Subscriber ┆ 94107    ┆ 2014-09-01 │\n",
              "│        ┆          ┆ 13:36:00Z   ┆ Market      ┆   ┆         ┆            ┆          ┆            │\n",
              "│ 432998 ┆ 6        ┆ 2014-09-01T ┆ Market at   ┆ … ┆ 421     ┆ Subscriber ┆ 94107    ┆ 2014-09-01 │\n",
              "│        ┆          ┆ 13:16:00Z   ┆ 10th        ┆   ┆         ┆            ┆          ┆            │\n",
              "└────────┴──────────┴─────────────┴─────────────┴───┴─────────┴────────────┴──────────┴────────────┘"
            ],
            "text/html": [
              "<div><style>\n",
              ".dataframe > thead > tr,\n",
              ".dataframe > tbody > tr {\n",
              "  text-align: right;\n",
              "  white-space: pre-wrap;\n",
              "}\n",
              "</style>\n",
              "<small>shape: (78_704, 12)</small><table border=\"1\" class=\"dataframe\"><thead><tr><th>id</th><th>duration</th><th>start_date</th><th>start_station_name</th><th>start_station_id</th><th>end_date</th><th>end_station_name</th><th>end_station_id</th><th>bike_id</th><th>subscription_type</th><th>zip_code</th><th>date</th></tr><tr><td>i64</td><td>i64</td><td>str</td><td>str</td><td>i64</td><td>str</td><td>str</td><td>i64</td><td>i64</td><td>str</td><td>i64</td><td>date</td></tr></thead><tbody><tr><td>4721</td><td>3</td><td>&quot;2013-08-29T20:27:00Z&quot;</td><td>&quot;Market at 10th&quot;</td><td>67</td><td>&quot;2013-08-29T20:30:00Z&quot;</td><td>&quot;South Van Ness at Market&quot;</td><td>66</td><td>416</td><td>&quot;Subscriber&quot;</td><td>94107</td><td>2013-08-29</td></tr><tr><td>4812</td><td>3</td><td>&quot;2013-08-29T21:30:00Z&quot;</td><td>&quot;2nd at Folsom&quot;</td><td>62</td><td>&quot;2013-08-29T21:33:00Z&quot;</td><td>&quot;2nd at Folsom&quot;</td><td>62</td><td>409</td><td>&quot;Subscriber&quot;</td><td>94107</td><td>2013-08-29</td></tr><tr><td>4705</td><td>3</td><td>&quot;2013-08-29T20:15:00Z&quot;</td><td>&quot;Golden Gate at Polk&quot;</td><td>59</td><td>&quot;2013-08-29T20:18:00Z&quot;</td><td>&quot;San Francisco City Hall&quot;</td><td>58</td><td>519</td><td>&quot;Subscriber&quot;</td><td>94107</td><td>2013-08-29</td></tr><tr><td>4841</td><td>3</td><td>&quot;2013-08-29T21:48:00Z&quot;</td><td>&quot;University and Emerson&quot;</td><td>35</td><td>&quot;2013-08-29T21:51:00Z&quot;</td><td>&quot;Cowper at University&quot;</td><td>37</td><td>83</td><td>&quot;Subscriber&quot;</td><td>94107</td><td>2013-08-29</td></tr><tr><td>4668</td><td>4</td><td>&quot;2013-08-29T19:39:00Z&quot;</td><td>&quot;San Francisco Caltrain 2 (330 …</td><td>69</td><td>&quot;2013-08-29T19:43:00Z&quot;</td><td>&quot;Townsend at 7th&quot;</td><td>65</td><td>489</td><td>&quot;Subscriber&quot;</td><td>94107</td><td>2013-08-29</td></tr><tr><td>&hellip;</td><td>&hellip;</td><td>&hellip;</td><td>&hellip;</td><td>&hellip;</td><td>&hellip;</td><td>&hellip;</td><td>&hellip;</td><td>&hellip;</td><td>&hellip;</td><td>&hellip;</td><td>&hellip;</td></tr><tr><td>433040</td><td>3</td><td>&quot;2014-09-01T14:43:00Z&quot;</td><td>&quot;Townsend at 7th&quot;</td><td>65</td><td>&quot;2014-09-01T14:46:00Z&quot;</td><td>&quot;San Francisco Caltrain (Townse…</td><td>70</td><td>111</td><td>&quot;Subscriber&quot;</td><td>94107</td><td>2014-09-01</td></tr><tr><td>433035</td><td>9</td><td>&quot;2014-09-01T14:37:00Z&quot;</td><td>&quot;Powell Street BART&quot;</td><td>39</td><td>&quot;2014-09-01T14:46:00Z&quot;</td><td>&quot;Townsend at 7th&quot;</td><td>65</td><td>376</td><td>&quot;Subscriber&quot;</td><td>94107</td><td>2014-09-01</td></tr><tr><td>433030</td><td>6</td><td>&quot;2014-09-01T14:31:00Z&quot;</td><td>&quot;Powell Street BART&quot;</td><td>39</td><td>&quot;2014-09-01T14:37:00Z&quot;</td><td>&quot;Market at 10th&quot;</td><td>67</td><td>421</td><td>&quot;Subscriber&quot;</td><td>94107</td><td>2014-09-01</td></tr><tr><td>433004</td><td>7</td><td>&quot;2014-09-01T13:36:00Z&quot;</td><td>&quot;Steuart at Market&quot;</td><td>74</td><td>&quot;2014-09-01T13:43:00Z&quot;</td><td>&quot;2nd at Townsend&quot;</td><td>61</td><td>449</td><td>&quot;Subscriber&quot;</td><td>94107</td><td>2014-09-01</td></tr><tr><td>432998</td><td>6</td><td>&quot;2014-09-01T13:16:00Z&quot;</td><td>&quot;Market at 10th&quot;</td><td>67</td><td>&quot;2014-09-01T13:22:00Z&quot;</td><td>&quot;Powell Street BART&quot;</td><td>39</td><td>421</td><td>&quot;Subscriber&quot;</td><td>94107</td><td>2014-09-01</td></tr></tbody></table></div>"
            ]
          },
          "metadata": {},
          "execution_count": 3
        }
      ]
    },
    {
      "cell_type": "code",
      "source": [
        "trips['id'].n_unique()"
      ],
      "metadata": {
        "colab": {
          "base_uri": "https://localhost:8080/"
        },
        "id": "dSv4AZqE2gdT",
        "outputId": "ab382ddd-98e6-4d6b-c2b8-157fbf2b302d"
      },
      "execution_count": 4,
      "outputs": [
        {
          "output_type": "execute_result",
          "data": {
            "text/plain": [
              "78704"
            ]
          },
          "metadata": {},
          "execution_count": 4
        }
      ]
    },
    {
      "cell_type": "code",
      "source": [
        "weather"
      ],
      "metadata": {
        "colab": {
          "base_uri": "https://localhost:8080/",
          "height": 637
        },
        "id": "VZStYtsR2Rl9",
        "outputId": "886d1542-f326-46a4-f703-fbf7e9773f09"
      },
      "execution_count": 5,
      "outputs": [
        {
          "output_type": "execute_result",
          "data": {
            "text/plain": [
              "shape: (733, 24)\n",
              "┌────────────┬────────────┬────────────┬───────────┬───┬───────────┬────────┬───────────┬──────────┐\n",
              "│ date       ┆ max_temper ┆ mean_tempe ┆ min_tempe ┆ … ┆ cloud_cov ┆ events ┆ wind_dir_ ┆ zip_code │\n",
              "│ ---        ┆ ature_f    ┆ rature_f   ┆ rature_f  ┆   ┆ er        ┆ ---    ┆ degrees   ┆ ---      │\n",
              "│ date       ┆ ---        ┆ ---        ┆ ---       ┆   ┆ ---       ┆ str    ┆ ---       ┆ i64      │\n",
              "│            ┆ i64        ┆ i64        ┆ i64       ┆   ┆ i64       ┆        ┆ i64       ┆          │\n",
              "╞════════════╪════════════╪════════════╪═══════════╪═══╪═══════════╪════════╪═══════════╪══════════╡\n",
              "│ 2013-08-29 ┆ 74         ┆ 68         ┆ 61        ┆ … ┆ 4         ┆ null   ┆ 286       ┆ 94107    │\n",
              "│ 2013-08-30 ┆ 78         ┆ 69         ┆ 60        ┆ … ┆ 2         ┆ null   ┆ 291       ┆ 94107    │\n",
              "│ 2013-08-31 ┆ 71         ┆ 64         ┆ 57        ┆ … ┆ 4         ┆ null   ┆ 284       ┆ 94107    │\n",
              "│ 2013-09-01 ┆ 74         ┆ 66         ┆ 58        ┆ … ┆ 4         ┆ null   ┆ 284       ┆ 94107    │\n",
              "│ 2013-09-02 ┆ 75         ┆ 69         ┆ 62        ┆ … ┆ 6         ┆ null   ┆ 277       ┆ 94107    │\n",
              "│ …          ┆ …          ┆ …          ┆ …         ┆ … ┆ …         ┆ …      ┆ …         ┆ …        │\n",
              "│ 2015-08-27 ┆ 84         ┆ 72         ┆ 59        ┆ … ┆ 2         ┆ null   ┆ 272       ┆ 94107    │\n",
              "│ 2015-08-28 ┆ 91         ┆ 77         ┆ 62        ┆ … ┆ 4         ┆ null   ┆ 291       ┆ 94107    │\n",
              "│ 2015-08-29 ┆ 76         ┆ 71         ┆ 65        ┆ … ┆ 6         ┆ Rain   ┆ 260       ┆ 94107    │\n",
              "│ 2015-08-30 ┆ 78         ┆ 70         ┆ 61        ┆ … ┆ 3         ┆ null   ┆ 276       ┆ 94107    │\n",
              "│ 2015-08-31 ┆ 78         ┆ 69         ┆ 60        ┆ … ┆ 1         ┆ null   ┆ 246       ┆ 94107    │\n",
              "└────────────┴────────────┴────────────┴───────────┴───┴───────────┴────────┴───────────┴──────────┘"
            ],
            "text/html": [
              "<div><style>\n",
              ".dataframe > thead > tr,\n",
              ".dataframe > tbody > tr {\n",
              "  text-align: right;\n",
              "  white-space: pre-wrap;\n",
              "}\n",
              "</style>\n",
              "<small>shape: (733, 24)</small><table border=\"1\" class=\"dataframe\"><thead><tr><th>date</th><th>max_temperature_f</th><th>mean_temperature_f</th><th>min_temperature_f</th><th>max_dew_point_f</th><th>mean_dew_point_f</th><th>min_dew_point_f</th><th>max_humidity</th><th>mean_humidity</th><th>min_humidity</th><th>max_sea_level_pressure_inches</th><th>mean_sea_level_pressure_inches</th><th>min_sea_level_pressure_inches</th><th>max_visibility_miles</th><th>mean_visibility_miles</th><th>min_visibility_miles</th><th>max_wind_Speed_mph</th><th>mean_wind_speed_mph</th><th>max_gust_speed_mph</th><th>precipitation_inches</th><th>cloud_cover</th><th>events</th><th>wind_dir_degrees</th><th>zip_code</th></tr><tr><td>date</td><td>i64</td><td>i64</td><td>i64</td><td>i64</td><td>i64</td><td>i64</td><td>i64</td><td>i64</td><td>i64</td><td>f64</td><td>f64</td><td>f64</td><td>i64</td><td>i64</td><td>i64</td><td>i64</td><td>i64</td><td>i64</td><td>str</td><td>i64</td><td>str</td><td>i64</td><td>i64</td></tr></thead><tbody><tr><td>2013-08-29</td><td>74</td><td>68</td><td>61</td><td>61</td><td>58</td><td>56</td><td>93</td><td>75</td><td>57</td><td>30.07</td><td>30.02</td><td>29.97</td><td>10</td><td>10</td><td>10</td><td>23</td><td>11</td><td>28</td><td>&quot;0&quot;</td><td>4</td><td>null</td><td>286</td><td>94107</td></tr><tr><td>2013-08-30</td><td>78</td><td>69</td><td>60</td><td>61</td><td>58</td><td>56</td><td>90</td><td>70</td><td>50</td><td>30.05</td><td>30.0</td><td>29.93</td><td>10</td><td>10</td><td>7</td><td>29</td><td>13</td><td>35</td><td>&quot;0&quot;</td><td>2</td><td>null</td><td>291</td><td>94107</td></tr><tr><td>2013-08-31</td><td>71</td><td>64</td><td>57</td><td>57</td><td>56</td><td>54</td><td>93</td><td>75</td><td>57</td><td>30.0</td><td>29.96</td><td>29.92</td><td>10</td><td>10</td><td>10</td><td>26</td><td>15</td><td>31</td><td>&quot;0&quot;</td><td>4</td><td>null</td><td>284</td><td>94107</td></tr><tr><td>2013-09-01</td><td>74</td><td>66</td><td>58</td><td>60</td><td>56</td><td>53</td><td>87</td><td>68</td><td>49</td><td>29.96</td><td>29.93</td><td>29.91</td><td>10</td><td>10</td><td>10</td><td>25</td><td>13</td><td>29</td><td>&quot;0&quot;</td><td>4</td><td>null</td><td>284</td><td>94107</td></tr><tr><td>2013-09-02</td><td>75</td><td>69</td><td>62</td><td>61</td><td>60</td><td>58</td><td>93</td><td>77</td><td>61</td><td>29.97</td><td>29.94</td><td>29.9</td><td>10</td><td>10</td><td>6</td><td>23</td><td>12</td><td>30</td><td>&quot;0&quot;</td><td>6</td><td>null</td><td>277</td><td>94107</td></tr><tr><td>&hellip;</td><td>&hellip;</td><td>&hellip;</td><td>&hellip;</td><td>&hellip;</td><td>&hellip;</td><td>&hellip;</td><td>&hellip;</td><td>&hellip;</td><td>&hellip;</td><td>&hellip;</td><td>&hellip;</td><td>&hellip;</td><td>&hellip;</td><td>&hellip;</td><td>&hellip;</td><td>&hellip;</td><td>&hellip;</td><td>&hellip;</td><td>&hellip;</td><td>&hellip;</td><td>&hellip;</td><td>&hellip;</td><td>&hellip;</td></tr><tr><td>2015-08-27</td><td>84</td><td>72</td><td>59</td><td>58</td><td>55</td><td>46</td><td>84</td><td>57</td><td>30</td><td>30.06</td><td>30.01</td><td>29.95</td><td>10</td><td>10</td><td>10</td><td>17</td><td>6</td><td>29</td><td>&quot;0&quot;</td><td>2</td><td>null</td><td>272</td><td>94107</td></tr><tr><td>2015-08-28</td><td>91</td><td>77</td><td>62</td><td>62</td><td>58</td><td>53</td><td>87</td><td>60</td><td>32</td><td>29.96</td><td>29.9</td><td>29.86</td><td>10</td><td>10</td><td>10</td><td>24</td><td>8</td><td>28</td><td>&quot;0&quot;</td><td>4</td><td>null</td><td>291</td><td>94107</td></tr><tr><td>2015-08-29</td><td>76</td><td>71</td><td>65</td><td>66</td><td>62</td><td>57</td><td>87</td><td>73</td><td>58</td><td>30.01</td><td>29.98</td><td>29.93</td><td>10</td><td>9</td><td>3</td><td>21</td><td>11</td><td>25</td><td>&quot;T&quot;</td><td>6</td><td>&quot;Rain&quot;</td><td>260</td><td>94107</td></tr><tr><td>2015-08-30</td><td>78</td><td>70</td><td>61</td><td>60</td><td>59</td><td>56</td><td>87</td><td>69</td><td>50</td><td>30.06</td><td>30.01</td><td>29.94</td><td>10</td><td>10</td><td>10</td><td>20</td><td>11</td><td>22</td><td>&quot;0&quot;</td><td>3</td><td>null</td><td>276</td><td>94107</td></tr><tr><td>2015-08-31</td><td>78</td><td>69</td><td>60</td><td>58</td><td>57</td><td>54</td><td>84</td><td>67</td><td>50</td><td>29.95</td><td>29.91</td><td>29.87</td><td>10</td><td>10</td><td>9</td><td>18</td><td>9</td><td>21</td><td>&quot;0&quot;</td><td>1</td><td>null</td><td>246</td><td>94107</td></tr></tbody></table></div>"
            ]
          },
          "metadata": {},
          "execution_count": 5
        }
      ]
    },
    {
      "cell_type": "code",
      "source": [
        "weather['date'].n_unique()"
      ],
      "metadata": {
        "colab": {
          "base_uri": "https://localhost:8080/"
        },
        "id": "aWc_9fKT2tED",
        "outputId": "e5959a95-f27b-4d6e-ed94-5aae127ada72"
      },
      "execution_count": 6,
      "outputs": [
        {
          "output_type": "execute_result",
          "data": {
            "text/plain": [
              "733"
            ]
          },
          "metadata": {},
          "execution_count": 6
        }
      ]
    },
    {
      "cell_type": "markdown",
      "metadata": {
        "id": "R04JtG9EyU1x"
      },
      "source": [
        "## Business Question 1: What was the average `duration` of trips that occurred in rainy weather?\n",
        "\n",
        "#### Part A: Join the trips and weather data frames\n",
        "\n",
        "The `trips` data represent every ride taken for a bike share company. The `weather` data represent the prevailing weather for a particular day. Join the `trips` and `weather` data together using the `date` column. Name the resulting DataFrame `trips_weather`.\n",
        "\n",
        "*Insert a code block below that joins `trips` to `weather` using the `date` column.*"
      ]
    },
    {
      "cell_type": "code",
      "execution_count": 7,
      "metadata": {
        "id": "LMuv46gAyU1y"
      },
      "outputs": [],
      "source": [
        "# Join trips and weather data\n",
        "trips_weather = trips.join(\n",
        "    weather,\n",
        "    on=\"date\",\n",
        "    how=\"left\"\n",
        ")"
      ]
    },
    {
      "cell_type": "code",
      "source": [
        "trips_weather"
      ],
      "metadata": {
        "colab": {
          "base_uri": "https://localhost:8080/",
          "height": 637
        },
        "id": "KGOSoHbM3UY-",
        "outputId": "445ed0f5-2e94-4e87-c95e-01f1b4138f54"
      },
      "execution_count": 8,
      "outputs": [
        {
          "output_type": "execute_result",
          "data": {
            "text/plain": [
              "shape: (78_704, 35)\n",
              "┌────────┬──────────┬─────────────┬────────────┬───┬────────────┬────────┬────────────┬────────────┐\n",
              "│ id     ┆ duration ┆ start_date  ┆ start_stat ┆ … ┆ cloud_cove ┆ events ┆ wind_dir_d ┆ zip_code_r │\n",
              "│ ---    ┆ ---      ┆ ---         ┆ ion_name   ┆   ┆ r          ┆ ---    ┆ egrees     ┆ ight       │\n",
              "│ i64    ┆ i64      ┆ str         ┆ ---        ┆   ┆ ---        ┆ str    ┆ ---        ┆ ---        │\n",
              "│        ┆          ┆             ┆ str        ┆   ┆ i64        ┆        ┆ i64        ┆ i64        │\n",
              "╞════════╪══════════╪═════════════╪════════════╪═══╪════════════╪════════╪════════════╪════════════╡\n",
              "│ 4721   ┆ 3        ┆ 2013-08-29T ┆ Market at  ┆ … ┆ 4          ┆ null   ┆ 286        ┆ 94107      │\n",
              "│        ┆          ┆ 20:27:00Z   ┆ 10th       ┆   ┆            ┆        ┆            ┆            │\n",
              "│ 4812   ┆ 3        ┆ 2013-08-29T ┆ 2nd at     ┆ … ┆ 4          ┆ null   ┆ 286        ┆ 94107      │\n",
              "│        ┆          ┆ 21:30:00Z   ┆ Folsom     ┆   ┆            ┆        ┆            ┆            │\n",
              "│ 4705   ┆ 3        ┆ 2013-08-29T ┆ Golden     ┆ … ┆ 4          ┆ null   ┆ 286        ┆ 94107      │\n",
              "│        ┆          ┆ 20:15:00Z   ┆ Gate at    ┆   ┆            ┆        ┆            ┆            │\n",
              "│        ┆          ┆             ┆ Polk       ┆   ┆            ┆        ┆            ┆            │\n",
              "│ 4841   ┆ 3        ┆ 2013-08-29T ┆ University ┆ … ┆ 4          ┆ null   ┆ 286        ┆ 94107      │\n",
              "│        ┆          ┆ 21:48:00Z   ┆ and        ┆   ┆            ┆        ┆            ┆            │\n",
              "│        ┆          ┆             ┆ Emerson    ┆   ┆            ┆        ┆            ┆            │\n",
              "│ 4668   ┆ 4        ┆ 2013-08-29T ┆ San        ┆ … ┆ 4          ┆ null   ┆ 286        ┆ 94107      │\n",
              "│        ┆          ┆ 19:39:00Z   ┆ Francisco  ┆   ┆            ┆        ┆            ┆            │\n",
              "│        ┆          ┆             ┆ Caltrain 2 ┆   ┆            ┆        ┆            ┆            │\n",
              "│        ┆          ┆             ┆ (330 …     ┆   ┆            ┆        ┆            ┆            │\n",
              "│ …      ┆ …        ┆ …           ┆ …          ┆ … ┆ …          ┆ …      ┆ …          ┆ …          │\n",
              "│ 433040 ┆ 3        ┆ 2014-09-01T ┆ Townsend   ┆ … ┆ 0          ┆ null   ┆ 290        ┆ 94107      │\n",
              "│        ┆          ┆ 14:43:00Z   ┆ at 7th     ┆   ┆            ┆        ┆            ┆            │\n",
              "│ 433035 ┆ 9        ┆ 2014-09-01T ┆ Powell     ┆ … ┆ 0          ┆ null   ┆ 290        ┆ 94107      │\n",
              "│        ┆          ┆ 14:37:00Z   ┆ Street     ┆   ┆            ┆        ┆            ┆            │\n",
              "│        ┆          ┆             ┆ BART       ┆   ┆            ┆        ┆            ┆            │\n",
              "│ 433030 ┆ 6        ┆ 2014-09-01T ┆ Powell     ┆ … ┆ 0          ┆ null   ┆ 290        ┆ 94107      │\n",
              "│        ┆          ┆ 14:31:00Z   ┆ Street     ┆   ┆            ┆        ┆            ┆            │\n",
              "│        ┆          ┆             ┆ BART       ┆   ┆            ┆        ┆            ┆            │\n",
              "│ 433004 ┆ 7        ┆ 2014-09-01T ┆ Steuart at ┆ … ┆ 0          ┆ null   ┆ 290        ┆ 94107      │\n",
              "│        ┆          ┆ 13:36:00Z   ┆ Market     ┆   ┆            ┆        ┆            ┆            │\n",
              "│ 432998 ┆ 6        ┆ 2014-09-01T ┆ Market at  ┆ … ┆ 0          ┆ null   ┆ 290        ┆ 94107      │\n",
              "│        ┆          ┆ 13:16:00Z   ┆ 10th       ┆   ┆            ┆        ┆            ┆            │\n",
              "└────────┴──────────┴─────────────┴────────────┴───┴────────────┴────────┴────────────┴────────────┘"
            ],
            "text/html": [
              "<div><style>\n",
              ".dataframe > thead > tr,\n",
              ".dataframe > tbody > tr {\n",
              "  text-align: right;\n",
              "  white-space: pre-wrap;\n",
              "}\n",
              "</style>\n",
              "<small>shape: (78_704, 35)</small><table border=\"1\" class=\"dataframe\"><thead><tr><th>id</th><th>duration</th><th>start_date</th><th>start_station_name</th><th>start_station_id</th><th>end_date</th><th>end_station_name</th><th>end_station_id</th><th>bike_id</th><th>subscription_type</th><th>zip_code</th><th>date</th><th>max_temperature_f</th><th>mean_temperature_f</th><th>min_temperature_f</th><th>max_dew_point_f</th><th>mean_dew_point_f</th><th>min_dew_point_f</th><th>max_humidity</th><th>mean_humidity</th><th>min_humidity</th><th>max_sea_level_pressure_inches</th><th>mean_sea_level_pressure_inches</th><th>min_sea_level_pressure_inches</th><th>max_visibility_miles</th><th>mean_visibility_miles</th><th>min_visibility_miles</th><th>max_wind_Speed_mph</th><th>mean_wind_speed_mph</th><th>max_gust_speed_mph</th><th>precipitation_inches</th><th>cloud_cover</th><th>events</th><th>wind_dir_degrees</th><th>zip_code_right</th></tr><tr><td>i64</td><td>i64</td><td>str</td><td>str</td><td>i64</td><td>str</td><td>str</td><td>i64</td><td>i64</td><td>str</td><td>i64</td><td>date</td><td>i64</td><td>i64</td><td>i64</td><td>i64</td><td>i64</td><td>i64</td><td>i64</td><td>i64</td><td>i64</td><td>f64</td><td>f64</td><td>f64</td><td>i64</td><td>i64</td><td>i64</td><td>i64</td><td>i64</td><td>i64</td><td>str</td><td>i64</td><td>str</td><td>i64</td><td>i64</td></tr></thead><tbody><tr><td>4721</td><td>3</td><td>&quot;2013-08-29T20:27:00Z&quot;</td><td>&quot;Market at 10th&quot;</td><td>67</td><td>&quot;2013-08-29T20:30:00Z&quot;</td><td>&quot;South Van Ness at Market&quot;</td><td>66</td><td>416</td><td>&quot;Subscriber&quot;</td><td>94107</td><td>2013-08-29</td><td>74</td><td>68</td><td>61</td><td>61</td><td>58</td><td>56</td><td>93</td><td>75</td><td>57</td><td>30.07</td><td>30.02</td><td>29.97</td><td>10</td><td>10</td><td>10</td><td>23</td><td>11</td><td>28</td><td>&quot;0&quot;</td><td>4</td><td>null</td><td>286</td><td>94107</td></tr><tr><td>4812</td><td>3</td><td>&quot;2013-08-29T21:30:00Z&quot;</td><td>&quot;2nd at Folsom&quot;</td><td>62</td><td>&quot;2013-08-29T21:33:00Z&quot;</td><td>&quot;2nd at Folsom&quot;</td><td>62</td><td>409</td><td>&quot;Subscriber&quot;</td><td>94107</td><td>2013-08-29</td><td>74</td><td>68</td><td>61</td><td>61</td><td>58</td><td>56</td><td>93</td><td>75</td><td>57</td><td>30.07</td><td>30.02</td><td>29.97</td><td>10</td><td>10</td><td>10</td><td>23</td><td>11</td><td>28</td><td>&quot;0&quot;</td><td>4</td><td>null</td><td>286</td><td>94107</td></tr><tr><td>4705</td><td>3</td><td>&quot;2013-08-29T20:15:00Z&quot;</td><td>&quot;Golden Gate at Polk&quot;</td><td>59</td><td>&quot;2013-08-29T20:18:00Z&quot;</td><td>&quot;San Francisco City Hall&quot;</td><td>58</td><td>519</td><td>&quot;Subscriber&quot;</td><td>94107</td><td>2013-08-29</td><td>74</td><td>68</td><td>61</td><td>61</td><td>58</td><td>56</td><td>93</td><td>75</td><td>57</td><td>30.07</td><td>30.02</td><td>29.97</td><td>10</td><td>10</td><td>10</td><td>23</td><td>11</td><td>28</td><td>&quot;0&quot;</td><td>4</td><td>null</td><td>286</td><td>94107</td></tr><tr><td>4841</td><td>3</td><td>&quot;2013-08-29T21:48:00Z&quot;</td><td>&quot;University and Emerson&quot;</td><td>35</td><td>&quot;2013-08-29T21:51:00Z&quot;</td><td>&quot;Cowper at University&quot;</td><td>37</td><td>83</td><td>&quot;Subscriber&quot;</td><td>94107</td><td>2013-08-29</td><td>74</td><td>68</td><td>61</td><td>61</td><td>58</td><td>56</td><td>93</td><td>75</td><td>57</td><td>30.07</td><td>30.02</td><td>29.97</td><td>10</td><td>10</td><td>10</td><td>23</td><td>11</td><td>28</td><td>&quot;0&quot;</td><td>4</td><td>null</td><td>286</td><td>94107</td></tr><tr><td>4668</td><td>4</td><td>&quot;2013-08-29T19:39:00Z&quot;</td><td>&quot;San Francisco Caltrain 2 (330 …</td><td>69</td><td>&quot;2013-08-29T19:43:00Z&quot;</td><td>&quot;Townsend at 7th&quot;</td><td>65</td><td>489</td><td>&quot;Subscriber&quot;</td><td>94107</td><td>2013-08-29</td><td>74</td><td>68</td><td>61</td><td>61</td><td>58</td><td>56</td><td>93</td><td>75</td><td>57</td><td>30.07</td><td>30.02</td><td>29.97</td><td>10</td><td>10</td><td>10</td><td>23</td><td>11</td><td>28</td><td>&quot;0&quot;</td><td>4</td><td>null</td><td>286</td><td>94107</td></tr><tr><td>&hellip;</td><td>&hellip;</td><td>&hellip;</td><td>&hellip;</td><td>&hellip;</td><td>&hellip;</td><td>&hellip;</td><td>&hellip;</td><td>&hellip;</td><td>&hellip;</td><td>&hellip;</td><td>&hellip;</td><td>&hellip;</td><td>&hellip;</td><td>&hellip;</td><td>&hellip;</td><td>&hellip;</td><td>&hellip;</td><td>&hellip;</td><td>&hellip;</td><td>&hellip;</td><td>&hellip;</td><td>&hellip;</td><td>&hellip;</td><td>&hellip;</td><td>&hellip;</td><td>&hellip;</td><td>&hellip;</td><td>&hellip;</td><td>&hellip;</td><td>&hellip;</td><td>&hellip;</td><td>&hellip;</td><td>&hellip;</td><td>&hellip;</td></tr><tr><td>433040</td><td>3</td><td>&quot;2014-09-01T14:43:00Z&quot;</td><td>&quot;Townsend at 7th&quot;</td><td>65</td><td>&quot;2014-09-01T14:46:00Z&quot;</td><td>&quot;San Francisco Caltrain (Townse…</td><td>70</td><td>111</td><td>&quot;Subscriber&quot;</td><td>94107</td><td>2014-09-01</td><td>83</td><td>70</td><td>57</td><td>58</td><td>56</td><td>52</td><td>86</td><td>64</td><td>42</td><td>29.86</td><td>29.82</td><td>29.76</td><td>10</td><td>10</td><td>8</td><td>16</td><td>7</td><td>20</td><td>&quot;0&quot;</td><td>0</td><td>null</td><td>290</td><td>94107</td></tr><tr><td>433035</td><td>9</td><td>&quot;2014-09-01T14:37:00Z&quot;</td><td>&quot;Powell Street BART&quot;</td><td>39</td><td>&quot;2014-09-01T14:46:00Z&quot;</td><td>&quot;Townsend at 7th&quot;</td><td>65</td><td>376</td><td>&quot;Subscriber&quot;</td><td>94107</td><td>2014-09-01</td><td>83</td><td>70</td><td>57</td><td>58</td><td>56</td><td>52</td><td>86</td><td>64</td><td>42</td><td>29.86</td><td>29.82</td><td>29.76</td><td>10</td><td>10</td><td>8</td><td>16</td><td>7</td><td>20</td><td>&quot;0&quot;</td><td>0</td><td>null</td><td>290</td><td>94107</td></tr><tr><td>433030</td><td>6</td><td>&quot;2014-09-01T14:31:00Z&quot;</td><td>&quot;Powell Street BART&quot;</td><td>39</td><td>&quot;2014-09-01T14:37:00Z&quot;</td><td>&quot;Market at 10th&quot;</td><td>67</td><td>421</td><td>&quot;Subscriber&quot;</td><td>94107</td><td>2014-09-01</td><td>83</td><td>70</td><td>57</td><td>58</td><td>56</td><td>52</td><td>86</td><td>64</td><td>42</td><td>29.86</td><td>29.82</td><td>29.76</td><td>10</td><td>10</td><td>8</td><td>16</td><td>7</td><td>20</td><td>&quot;0&quot;</td><td>0</td><td>null</td><td>290</td><td>94107</td></tr><tr><td>433004</td><td>7</td><td>&quot;2014-09-01T13:36:00Z&quot;</td><td>&quot;Steuart at Market&quot;</td><td>74</td><td>&quot;2014-09-01T13:43:00Z&quot;</td><td>&quot;2nd at Townsend&quot;</td><td>61</td><td>449</td><td>&quot;Subscriber&quot;</td><td>94107</td><td>2014-09-01</td><td>83</td><td>70</td><td>57</td><td>58</td><td>56</td><td>52</td><td>86</td><td>64</td><td>42</td><td>29.86</td><td>29.82</td><td>29.76</td><td>10</td><td>10</td><td>8</td><td>16</td><td>7</td><td>20</td><td>&quot;0&quot;</td><td>0</td><td>null</td><td>290</td><td>94107</td></tr><tr><td>432998</td><td>6</td><td>&quot;2014-09-01T13:16:00Z&quot;</td><td>&quot;Market at 10th&quot;</td><td>67</td><td>&quot;2014-09-01T13:22:00Z&quot;</td><td>&quot;Powell Street BART&quot;</td><td>39</td><td>421</td><td>&quot;Subscriber&quot;</td><td>94107</td><td>2014-09-01</td><td>83</td><td>70</td><td>57</td><td>58</td><td>56</td><td>52</td><td>86</td><td>64</td><td>42</td><td>29.86</td><td>29.82</td><td>29.76</td><td>10</td><td>10</td><td>8</td><td>16</td><td>7</td><td>20</td><td>&quot;0&quot;</td><td>0</td><td>null</td><td>290</td><td>94107</td></tr></tbody></table></div>"
            ]
          },
          "metadata": {},
          "execution_count": 8
        }
      ]
    },
    {
      "cell_type": "code",
      "source": [
        "only_rainy_days = trips_weather.filter(pl.col(\"events\") == \"Rain\")\n",
        "only_rainy_days"
      ],
      "metadata": {
        "colab": {
          "base_uri": "https://localhost:8080/",
          "height": 637
        },
        "id": "jULvH4Nu5WBB",
        "outputId": "6f4d17e2-8919-448f-ba4e-b33ea9bbceb2"
      },
      "execution_count": 9,
      "outputs": [
        {
          "output_type": "execute_result",
          "data": {
            "text/plain": [
              "shape: (9_129, 35)\n",
              "┌────────┬──────────┬─────────────┬────────────┬───┬────────────┬────────┬────────────┬────────────┐\n",
              "│ id     ┆ duration ┆ start_date  ┆ start_stat ┆ … ┆ cloud_cove ┆ events ┆ wind_dir_d ┆ zip_code_r │\n",
              "│ ---    ┆ ---      ┆ ---         ┆ ion_name   ┆   ┆ r          ┆ ---    ┆ egrees     ┆ ight       │\n",
              "│ i64    ┆ i64      ┆ str         ┆ ---        ┆   ┆ ---        ┆ str    ┆ ---        ┆ ---        │\n",
              "│        ┆          ┆             ┆ str        ┆   ┆ i64        ┆        ┆ i64        ┆ i64        │\n",
              "╞════════╪══════════╪═════════════╪════════════╪═══╪════════════╪════════╪════════════╪════════════╡\n",
              "│ 29613  ┆ 7        ┆ 2013-09-21T ┆ 2nd at     ┆ … ┆ 6          ┆ Rain   ┆ 218        ┆ 94107      │\n",
              "│        ┆          ┆ 04:29:00Z   ┆ Folsom     ┆   ┆            ┆        ┆            ┆            │\n",
              "│ 29614  ┆ 12       ┆ 2013-09-21T ┆ Civic      ┆ … ┆ 6          ┆ Rain   ┆ 218        ┆ 94107      │\n",
              "│        ┆          ┆ 04:30:00Z   ┆ Center     ┆   ┆            ┆        ┆            ┆            │\n",
              "│        ┆          ┆             ┆ BART (7th  ┆   ┆            ┆        ┆            ┆            │\n",
              "│        ┆          ┆             ┆ at Mark…   ┆   ┆            ┆        ┆            ┆            │\n",
              "│ 29630  ┆ 14       ┆ 2013-09-21T ┆ San Pedro  ┆ … ┆ 6          ┆ Rain   ┆ 218        ┆ 94107      │\n",
              "│        ┆          ┆ 06:01:00Z   ┆ Square     ┆   ┆            ┆        ┆            ┆            │\n",
              "│ 29631  ┆ 14       ┆ 2013-09-21T ┆ San Pedro  ┆ … ┆ 6          ┆ Rain   ┆ 218        ┆ 94107      │\n",
              "│        ┆          ┆ 06:01:00Z   ┆ Square     ┆   ┆            ┆        ┆            ┆            │\n",
              "│ 29634  ┆ 4        ┆ 2013-09-21T ┆ SJSU - San ┆ … ┆ 6          ┆ Rain   ┆ 218        ┆ 94107      │\n",
              "│        ┆          ┆ 06:38:00Z   ┆ Salvador   ┆   ┆            ┆        ┆            ┆            │\n",
              "│        ┆          ┆             ┆ at 9th     ┆   ┆            ┆        ┆            ┆            │\n",
              "│ …      ┆ …        ┆ …           ┆ …          ┆ … ┆ …          ┆ …      ┆ …          ┆ …          │\n",
              "│ 456554 ┆ 10       ┆ 2014-09-17T ┆ San        ┆ … ┆ 5          ┆ Rain   ┆ 267        ┆ 94107      │\n",
              "│        ┆          ┆ 10:21:00Z   ┆ Francisco  ┆   ┆            ┆        ┆            ┆            │\n",
              "│        ┆          ┆             ┆ Caltrain   ┆   ┆            ┆        ┆            ┆            │\n",
              "│        ┆          ┆             ┆ (Townse…   ┆   ┆            ┆        ┆            ┆            │\n",
              "│ 456553 ┆ 11       ┆ 2014-09-17T ┆ San        ┆ … ┆ 5          ┆ Rain   ┆ 267        ┆ 94107      │\n",
              "│        ┆          ┆ 10:20:00Z   ┆ Francisco  ┆   ┆            ┆        ┆            ┆            │\n",
              "│        ┆          ┆             ┆ Caltrain 2 ┆   ┆            ┆        ┆            ┆            │\n",
              "│        ┆          ┆             ┆ (330 …     ┆   ┆            ┆        ┆            ┆            │\n",
              "│ 456548 ┆ 20       ┆ 2014-09-17T ┆ 2nd at     ┆ … ┆ 5          ┆ Rain   ┆ 267        ┆ 94107      │\n",
              "│        ┆          ┆ 10:15:00Z   ┆ Folsom     ┆   ┆            ┆        ┆            ┆            │\n",
              "│ 456544 ┆ 3        ┆ 2014-09-17T ┆ 2nd at     ┆ … ┆ 5          ┆ Rain   ┆ 267        ┆ 94107      │\n",
              "│        ┆          ┆ 10:00:00Z   ┆ Folsom     ┆   ┆            ┆        ┆            ┆            │\n",
              "│ 456543 ┆ 4        ┆ 2014-09-17T ┆ Townsend   ┆ … ┆ 5          ┆ Rain   ┆ 267        ┆ 94107      │\n",
              "│        ┆          ┆ 10:00:00Z   ┆ at 7th     ┆   ┆            ┆        ┆            ┆            │\n",
              "└────────┴──────────┴─────────────┴────────────┴───┴────────────┴────────┴────────────┴────────────┘"
            ],
            "text/html": [
              "<div><style>\n",
              ".dataframe > thead > tr,\n",
              ".dataframe > tbody > tr {\n",
              "  text-align: right;\n",
              "  white-space: pre-wrap;\n",
              "}\n",
              "</style>\n",
              "<small>shape: (9_129, 35)</small><table border=\"1\" class=\"dataframe\"><thead><tr><th>id</th><th>duration</th><th>start_date</th><th>start_station_name</th><th>start_station_id</th><th>end_date</th><th>end_station_name</th><th>end_station_id</th><th>bike_id</th><th>subscription_type</th><th>zip_code</th><th>date</th><th>max_temperature_f</th><th>mean_temperature_f</th><th>min_temperature_f</th><th>max_dew_point_f</th><th>mean_dew_point_f</th><th>min_dew_point_f</th><th>max_humidity</th><th>mean_humidity</th><th>min_humidity</th><th>max_sea_level_pressure_inches</th><th>mean_sea_level_pressure_inches</th><th>min_sea_level_pressure_inches</th><th>max_visibility_miles</th><th>mean_visibility_miles</th><th>min_visibility_miles</th><th>max_wind_Speed_mph</th><th>mean_wind_speed_mph</th><th>max_gust_speed_mph</th><th>precipitation_inches</th><th>cloud_cover</th><th>events</th><th>wind_dir_degrees</th><th>zip_code_right</th></tr><tr><td>i64</td><td>i64</td><td>str</td><td>str</td><td>i64</td><td>str</td><td>str</td><td>i64</td><td>i64</td><td>str</td><td>i64</td><td>date</td><td>i64</td><td>i64</td><td>i64</td><td>i64</td><td>i64</td><td>i64</td><td>i64</td><td>i64</td><td>i64</td><td>f64</td><td>f64</td><td>f64</td><td>i64</td><td>i64</td><td>i64</td><td>i64</td><td>i64</td><td>i64</td><td>str</td><td>i64</td><td>str</td><td>i64</td><td>i64</td></tr></thead><tbody><tr><td>29613</td><td>7</td><td>&quot;2013-09-21T04:29:00Z&quot;</td><td>&quot;2nd at Folsom&quot;</td><td>62</td><td>&quot;2013-09-21T04:36:00Z&quot;</td><td>&quot;Clay at Battery&quot;</td><td>41</td><td>319</td><td>&quot;Subscriber&quot;</td><td>94107</td><td>2013-09-21</td><td>68</td><td>63</td><td>58</td><td>59</td><td>56</td><td>53</td><td>90</td><td>75</td><td>59</td><td>29.91</td><td>29.85</td><td>29.82</td><td>10</td><td>9</td><td>2</td><td>24</td><td>12</td><td>28</td><td>&quot;0.23&quot;</td><td>6</td><td>&quot;Rain&quot;</td><td>218</td><td>94107</td></tr><tr><td>29614</td><td>12</td><td>&quot;2013-09-21T04:30:00Z&quot;</td><td>&quot;Civic Center BART (7th at Mark…</td><td>72</td><td>&quot;2013-09-21T04:42:00Z&quot;</td><td>&quot;Townsend at 7th&quot;</td><td>65</td><td>513</td><td>&quot;Subscriber&quot;</td><td>94107</td><td>2013-09-21</td><td>68</td><td>63</td><td>58</td><td>59</td><td>56</td><td>53</td><td>90</td><td>75</td><td>59</td><td>29.91</td><td>29.85</td><td>29.82</td><td>10</td><td>9</td><td>2</td><td>24</td><td>12</td><td>28</td><td>&quot;0.23&quot;</td><td>6</td><td>&quot;Rain&quot;</td><td>218</td><td>94107</td></tr><tr><td>29630</td><td>14</td><td>&quot;2013-09-21T06:01:00Z&quot;</td><td>&quot;San Pedro Square&quot;</td><td>6</td><td>&quot;2013-09-21T06:15:00Z&quot;</td><td>&quot;SJSU - San Salvador at 9th&quot;</td><td>16</td><td>181</td><td>&quot;Customer&quot;</td><td>94107</td><td>2013-09-21</td><td>68</td><td>63</td><td>58</td><td>59</td><td>56</td><td>53</td><td>90</td><td>75</td><td>59</td><td>29.91</td><td>29.85</td><td>29.82</td><td>10</td><td>9</td><td>2</td><td>24</td><td>12</td><td>28</td><td>&quot;0.23&quot;</td><td>6</td><td>&quot;Rain&quot;</td><td>218</td><td>94107</td></tr><tr><td>29631</td><td>14</td><td>&quot;2013-09-21T06:01:00Z&quot;</td><td>&quot;San Pedro Square&quot;</td><td>6</td><td>&quot;2013-09-21T06:15:00Z&quot;</td><td>&quot;SJSU - San Salvador at 9th&quot;</td><td>16</td><td>101</td><td>&quot;Customer&quot;</td><td>94107</td><td>2013-09-21</td><td>68</td><td>63</td><td>58</td><td>59</td><td>56</td><td>53</td><td>90</td><td>75</td><td>59</td><td>29.91</td><td>29.85</td><td>29.82</td><td>10</td><td>9</td><td>2</td><td>24</td><td>12</td><td>28</td><td>&quot;0.23&quot;</td><td>6</td><td>&quot;Rain&quot;</td><td>218</td><td>94107</td></tr><tr><td>29634</td><td>4</td><td>&quot;2013-09-21T06:38:00Z&quot;</td><td>&quot;SJSU - San Salvador at 9th&quot;</td><td>16</td><td>&quot;2013-09-21T06:42:00Z&quot;</td><td>&quot;SJSU 4th at San Carlos&quot;</td><td>12</td><td>200</td><td>&quot;Customer&quot;</td><td>94107</td><td>2013-09-21</td><td>68</td><td>63</td><td>58</td><td>59</td><td>56</td><td>53</td><td>90</td><td>75</td><td>59</td><td>29.91</td><td>29.85</td><td>29.82</td><td>10</td><td>9</td><td>2</td><td>24</td><td>12</td><td>28</td><td>&quot;0.23&quot;</td><td>6</td><td>&quot;Rain&quot;</td><td>218</td><td>94107</td></tr><tr><td>&hellip;</td><td>&hellip;</td><td>&hellip;</td><td>&hellip;</td><td>&hellip;</td><td>&hellip;</td><td>&hellip;</td><td>&hellip;</td><td>&hellip;</td><td>&hellip;</td><td>&hellip;</td><td>&hellip;</td><td>&hellip;</td><td>&hellip;</td><td>&hellip;</td><td>&hellip;</td><td>&hellip;</td><td>&hellip;</td><td>&hellip;</td><td>&hellip;</td><td>&hellip;</td><td>&hellip;</td><td>&hellip;</td><td>&hellip;</td><td>&hellip;</td><td>&hellip;</td><td>&hellip;</td><td>&hellip;</td><td>&hellip;</td><td>&hellip;</td><td>&hellip;</td><td>&hellip;</td><td>&hellip;</td><td>&hellip;</td><td>&hellip;</td></tr><tr><td>456554</td><td>10</td><td>&quot;2014-09-17T10:21:00Z&quot;</td><td>&quot;San Francisco Caltrain (Townse…</td><td>70</td><td>&quot;2014-09-17T10:31:00Z&quot;</td><td>&quot;Post at Kearny&quot;</td><td>47</td><td>571</td><td>&quot;Subscriber&quot;</td><td>94107</td><td>2014-09-17</td><td>77</td><td>69</td><td>61</td><td>64</td><td>58</td><td>55</td><td>84</td><td>67</td><td>50</td><td>29.83</td><td>29.8</td><td>29.75</td><td>10</td><td>10</td><td>9</td><td>21</td><td>9</td><td>29</td><td>&quot;T&quot;</td><td>5</td><td>&quot;Rain&quot;</td><td>267</td><td>94107</td></tr><tr><td>456553</td><td>11</td><td>&quot;2014-09-17T10:20:00Z&quot;</td><td>&quot;San Francisco Caltrain 2 (330 …</td><td>69</td><td>&quot;2014-09-17T10:31:00Z&quot;</td><td>&quot;Post at Kearny&quot;</td><td>47</td><td>473</td><td>&quot;Subscriber&quot;</td><td>94107</td><td>2014-09-17</td><td>77</td><td>69</td><td>61</td><td>64</td><td>58</td><td>55</td><td>84</td><td>67</td><td>50</td><td>29.83</td><td>29.8</td><td>29.75</td><td>10</td><td>10</td><td>9</td><td>21</td><td>9</td><td>29</td><td>&quot;T&quot;</td><td>5</td><td>&quot;Rain&quot;</td><td>267</td><td>94107</td></tr><tr><td>456548</td><td>20</td><td>&quot;2014-09-17T10:15:00Z&quot;</td><td>&quot;2nd at Folsom&quot;</td><td>62</td><td>&quot;2014-09-17T10:35:00Z&quot;</td><td>&quot;Howard at 2nd&quot;</td><td>63</td><td>266</td><td>&quot;Subscriber&quot;</td><td>94107</td><td>2014-09-17</td><td>77</td><td>69</td><td>61</td><td>64</td><td>58</td><td>55</td><td>84</td><td>67</td><td>50</td><td>29.83</td><td>29.8</td><td>29.75</td><td>10</td><td>10</td><td>9</td><td>21</td><td>9</td><td>29</td><td>&quot;T&quot;</td><td>5</td><td>&quot;Rain&quot;</td><td>267</td><td>94107</td></tr><tr><td>456544</td><td>3</td><td>&quot;2014-09-17T10:00:00Z&quot;</td><td>&quot;2nd at Folsom&quot;</td><td>62</td><td>&quot;2014-09-17T10:03:00Z&quot;</td><td>&quot;Market at Sansome&quot;</td><td>77</td><td>446</td><td>&quot;Subscriber&quot;</td><td>94107</td><td>2014-09-17</td><td>77</td><td>69</td><td>61</td><td>64</td><td>58</td><td>55</td><td>84</td><td>67</td><td>50</td><td>29.83</td><td>29.8</td><td>29.75</td><td>10</td><td>10</td><td>9</td><td>21</td><td>9</td><td>29</td><td>&quot;T&quot;</td><td>5</td><td>&quot;Rain&quot;</td><td>267</td><td>94107</td></tr><tr><td>456543</td><td>4</td><td>&quot;2014-09-17T10:00:00Z&quot;</td><td>&quot;Townsend at 7th&quot;</td><td>65</td><td>&quot;2014-09-17T10:04:00Z&quot;</td><td>&quot;San Francisco Caltrain (Townse…</td><td>70</td><td>284</td><td>&quot;Subscriber&quot;</td><td>94107</td><td>2014-09-17</td><td>77</td><td>69</td><td>61</td><td>64</td><td>58</td><td>55</td><td>84</td><td>67</td><td>50</td><td>29.83</td><td>29.8</td><td>29.75</td><td>10</td><td>10</td><td>9</td><td>21</td><td>9</td><td>29</td><td>&quot;T&quot;</td><td>5</td><td>&quot;Rain&quot;</td><td>267</td><td>94107</td></tr></tbody></table></div>"
            ]
          },
          "metadata": {},
          "execution_count": 9
        }
      ]
    },
    {
      "cell_type": "code",
      "source": [
        "average_duration_rainy = only_rainy_days.select(pl.col(\"duration\").mean()).item()\n",
        "print(f\"The average duration of trips when there was rainy weather is: {average_duration_rainy:.2f} minutes\")"
      ],
      "metadata": {
        "colab": {
          "base_uri": "https://localhost:8080/"
        },
        "id": "f3EFMRnp3c8G",
        "outputId": "40ea3dd7-5abc-4db1-fc7f-9880f0c65ccf"
      },
      "execution_count": 10,
      "outputs": [
        {
          "output_type": "stream",
          "name": "stdout",
          "text": [
            "The average duration of trips when there was rainy weather is: 10.50 minutes\n"
          ]
        }
      ]
    },
    {
      "cell_type": "markdown",
      "metadata": {
        "id": "jAmIh2v9yU1y"
      },
      "source": [
        "#### Part B: Calculate the average `duration` of trips in poor weather\n",
        "\n",
        "Using the `trips_weather` DataFrame, compute the average trip `duration` for days that had weather `events` (i.e. anytime a day had an event of anything but `null`). Name the column for average `duration`: `avg_duration`. The resulting DataFrame should have one row and be named `avg_bad_weather`.\n",
        "\n",
        "*Insert a code block that shows the computation of the average trip duration for days that had a weather event.*"
      ]
    },
    {
      "cell_type": "code",
      "execution_count": 11,
      "metadata": {
        "id": "GfK-KPe2yU1y"
      },
      "outputs": [],
      "source": [
        "# Calculate average duration for trips with weather events\n",
        "bad_weather_days = trips_weather.filter(pl.col(\"events\") != \"\")\n",
        "average_bad_weather = bad_weather_days.select(pl.col(\"duration\").mean()).item()"
      ]
    },
    {
      "cell_type": "code",
      "source": [
        "print(f\"The average duration of trips when the weather is bad is: {average_bad_weather:.2f} minutes\")"
      ],
      "metadata": {
        "colab": {
          "base_uri": "https://localhost:8080/"
        },
        "id": "3ieFcXNj7btA",
        "outputId": "1a3e7e5b-fcf7-47ce-b895-cbcb62d81296"
      },
      "execution_count": 12,
      "outputs": [
        {
          "output_type": "stream",
          "name": "stdout",
          "text": [
            "The average duration of trips when the weather is bad is: 10.35 minutes\n"
          ]
        }
      ]
    },
    {
      "cell_type": "markdown",
      "metadata": {
        "id": "r1HZVy2qyU1y"
      },
      "source": [
        "# Baseball Dataset\n",
        "\n",
        "## Load Data\n",
        "\n",
        "Load the `Batting.csv`, `People.csv`, and `HallOfFame.csv` datasets into Polars DataFrames.\n",
        "\n",
        "*Insert a code block to load your datasets*"
      ]
    },
    {
      "cell_type": "code",
      "execution_count": 13,
      "metadata": {
        "id": "qrZO72DTyU1y"
      },
      "outputs": [],
      "source": [
        "# Load baseball datasets\n",
        "Batting = pl.read_csv(\"https://raw.githubusercontent.com/philhetzel/opan5510-class9/refs/heads/main/data/Batting.csv\", null_values='NA')\n",
        "People = pl.read_csv(\"https://raw.githubusercontent.com/philhetzel/opan5510-class9/refs/heads/main/data/People.csv\", null_values='NA')\n",
        "HallOfFame = pl.read_csv(\"https://raw.githubusercontent.com/philhetzel/opan5510-class9/refs/heads/main/data/HallOfFame.csv\", null_values='NA')\n"
      ]
    },
    {
      "cell_type": "code",
      "source": [
        "Batting"
      ],
      "metadata": {
        "colab": {
          "base_uri": "https://localhost:8080/",
          "height": 443
        },
        "id": "zap3tGmg8RpZ",
        "outputId": "581e5aa1-d5a9-4e43-da25-3b81f891c439"
      },
      "execution_count": 14,
      "outputs": [
        {
          "output_type": "execute_result",
          "data": {
            "text/plain": [
              "shape: (112_184, 22)\n",
              "┌───────────┬────────┬───────┬────────┬───┬──────┬──────┬──────┬──────┐\n",
              "│ playerID  ┆ yearID ┆ stint ┆ teamID ┆ … ┆ HBP  ┆ SH   ┆ SF   ┆ GIDP │\n",
              "│ ---       ┆ ---    ┆ ---   ┆ ---    ┆   ┆ ---  ┆ ---  ┆ ---  ┆ ---  │\n",
              "│ str       ┆ i64    ┆ i64   ┆ str    ┆   ┆ str  ┆ str  ┆ str  ┆ i64  │\n",
              "╞═══════════╪════════╪═══════╪════════╪═══╪══════╪══════╪══════╪══════╡\n",
              "│ abercda01 ┆ 1871   ┆ 1     ┆ TRO    ┆ … ┆ null ┆ null ┆ null ┆ 0    │\n",
              "│ addybo01  ┆ 1871   ┆ 1     ┆ RC1    ┆ … ┆ null ┆ null ┆ null ┆ 0    │\n",
              "│ allisar01 ┆ 1871   ┆ 1     ┆ CL1    ┆ … ┆ null ┆ null ┆ null ┆ 1    │\n",
              "│ allisdo01 ┆ 1871   ┆ 1     ┆ WS3    ┆ … ┆ null ┆ null ┆ null ┆ 0    │\n",
              "│ ansonca01 ┆ 1871   ┆ 1     ┆ RC1    ┆ … ┆ null ┆ null ┆ null ┆ 0    │\n",
              "│ …         ┆ …      ┆ …     ┆ …      ┆ … ┆ …    ┆ …    ┆ …    ┆ …    │\n",
              "│ zimmebr01 ┆ 2022   ┆ 1     ┆ TOR    ┆ … ┆ 5    ┆ 1    ┆ 0    ┆ 0    │\n",
              "│ zimmebr01 ┆ 2022   ┆ 2     ┆ PHI    ┆ … ┆ 0    ┆ 0    ┆ 0    ┆ 0    │\n",
              "│ zimmebr01 ┆ 2022   ┆ 3     ┆ TOR    ┆ … ┆ 1    ┆ 0    ┆ 0    ┆ 0    │\n",
              "│ zimmebr02 ┆ 2022   ┆ 1     ┆ BAL    ┆ … ┆ 0    ┆ 0    ┆ 0    ┆ 0    │\n",
              "│ zuninmi01 ┆ 2022   ┆ 1     ┆ TBA    ┆ … ┆ 1    ┆ 0    ┆ 1    ┆ 2    │\n",
              "└───────────┴────────┴───────┴────────┴───┴──────┴──────┴──────┴──────┘"
            ],
            "text/html": [
              "<div><style>\n",
              ".dataframe > thead > tr,\n",
              ".dataframe > tbody > tr {\n",
              "  text-align: right;\n",
              "  white-space: pre-wrap;\n",
              "}\n",
              "</style>\n",
              "<small>shape: (112_184, 22)</small><table border=\"1\" class=\"dataframe\"><thead><tr><th>playerID</th><th>yearID</th><th>stint</th><th>teamID</th><th>lgID</th><th>G</th><th>AB</th><th>R</th><th>H</th><th>X2B</th><th>X3B</th><th>HR</th><th>RBI</th><th>SB</th><th>CS</th><th>BB</th><th>SO</th><th>IBB</th><th>HBP</th><th>SH</th><th>SF</th><th>GIDP</th></tr><tr><td>str</td><td>i64</td><td>i64</td><td>str</td><td>str</td><td>i64</td><td>i64</td><td>i64</td><td>i64</td><td>i64</td><td>i64</td><td>i64</td><td>i64</td><td>i64</td><td>i64</td><td>i64</td><td>i64</td><td>str</td><td>str</td><td>str</td><td>str</td><td>i64</td></tr></thead><tbody><tr><td>&quot;abercda01&quot;</td><td>1871</td><td>1</td><td>&quot;TRO&quot;</td><td>null</td><td>1</td><td>4</td><td>0</td><td>0</td><td>0</td><td>0</td><td>0</td><td>0</td><td>0</td><td>0</td><td>0</td><td>0</td><td>null</td><td>null</td><td>null</td><td>null</td><td>0</td></tr><tr><td>&quot;addybo01&quot;</td><td>1871</td><td>1</td><td>&quot;RC1&quot;</td><td>null</td><td>25</td><td>118</td><td>30</td><td>32</td><td>6</td><td>0</td><td>0</td><td>13</td><td>8</td><td>1</td><td>4</td><td>0</td><td>null</td><td>null</td><td>null</td><td>null</td><td>0</td></tr><tr><td>&quot;allisar01&quot;</td><td>1871</td><td>1</td><td>&quot;CL1&quot;</td><td>null</td><td>29</td><td>137</td><td>28</td><td>40</td><td>4</td><td>5</td><td>0</td><td>19</td><td>3</td><td>1</td><td>2</td><td>5</td><td>null</td><td>null</td><td>null</td><td>null</td><td>1</td></tr><tr><td>&quot;allisdo01&quot;</td><td>1871</td><td>1</td><td>&quot;WS3&quot;</td><td>null</td><td>27</td><td>133</td><td>28</td><td>44</td><td>10</td><td>2</td><td>2</td><td>27</td><td>1</td><td>1</td><td>0</td><td>2</td><td>null</td><td>null</td><td>null</td><td>null</td><td>0</td></tr><tr><td>&quot;ansonca01&quot;</td><td>1871</td><td>1</td><td>&quot;RC1&quot;</td><td>null</td><td>25</td><td>120</td><td>29</td><td>39</td><td>11</td><td>3</td><td>0</td><td>16</td><td>6</td><td>2</td><td>2</td><td>1</td><td>null</td><td>null</td><td>null</td><td>null</td><td>0</td></tr><tr><td>&hellip;</td><td>&hellip;</td><td>&hellip;</td><td>&hellip;</td><td>&hellip;</td><td>&hellip;</td><td>&hellip;</td><td>&hellip;</td><td>&hellip;</td><td>&hellip;</td><td>&hellip;</td><td>&hellip;</td><td>&hellip;</td><td>&hellip;</td><td>&hellip;</td><td>&hellip;</td><td>&hellip;</td><td>&hellip;</td><td>&hellip;</td><td>&hellip;</td><td>&hellip;</td><td>&hellip;</td></tr><tr><td>&quot;zimmebr01&quot;</td><td>2022</td><td>1</td><td>&quot;TOR&quot;</td><td>&quot;AL&quot;</td><td>77</td><td>76</td><td>11</td><td>8</td><td>4</td><td>0</td><td>2</td><td>3</td><td>2</td><td>1</td><td>5</td><td>33</td><td>&quot;0&quot;</td><td>&quot;5&quot;</td><td>&quot;1&quot;</td><td>&quot;0&quot;</td><td>0</td></tr><tr><td>&quot;zimmebr01&quot;</td><td>2022</td><td>2</td><td>&quot;PHI&quot;</td><td>&quot;NL&quot;</td><td>9</td><td>16</td><td>4</td><td>4</td><td>1</td><td>0</td><td>0</td><td>0</td><td>0</td><td>0</td><td>0</td><td>4</td><td>&quot;0&quot;</td><td>&quot;0&quot;</td><td>&quot;0&quot;</td><td>&quot;0&quot;</td><td>0</td></tr><tr><td>&quot;zimmebr01&quot;</td><td>2022</td><td>3</td><td>&quot;TOR&quot;</td><td>&quot;AL&quot;</td><td>23</td><td>13</td><td>3</td><td>1</td><td>0</td><td>0</td><td>0</td><td>2</td><td>1</td><td>1</td><td>0</td><td>8</td><td>&quot;0&quot;</td><td>&quot;1&quot;</td><td>&quot;0&quot;</td><td>&quot;0&quot;</td><td>0</td></tr><tr><td>&quot;zimmebr02&quot;</td><td>2022</td><td>1</td><td>&quot;BAL&quot;</td><td>&quot;AL&quot;</td><td>15</td><td>0</td><td>0</td><td>0</td><td>0</td><td>0</td><td>0</td><td>0</td><td>0</td><td>0</td><td>0</td><td>0</td><td>&quot;0&quot;</td><td>&quot;0&quot;</td><td>&quot;0&quot;</td><td>&quot;0&quot;</td><td>0</td></tr><tr><td>&quot;zuninmi01&quot;</td><td>2022</td><td>1</td><td>&quot;TBA&quot;</td><td>&quot;AL&quot;</td><td>36</td><td>115</td><td>7</td><td>17</td><td>3</td><td>0</td><td>5</td><td>16</td><td>0</td><td>0</td><td>6</td><td>46</td><td>&quot;0&quot;</td><td>&quot;1&quot;</td><td>&quot;0&quot;</td><td>&quot;1&quot;</td><td>2</td></tr></tbody></table></div>"
            ]
          },
          "metadata": {},
          "execution_count": 14
        }
      ]
    },
    {
      "cell_type": "code",
      "source": [
        "People"
      ],
      "metadata": {
        "colab": {
          "base_uri": "https://localhost:8080/",
          "height": 637
        },
        "id": "JQ88q7FK8UBe",
        "outputId": "b7fc8484-cbb7-417b-efe4-5cbfdf554226"
      },
      "execution_count": 15,
      "outputs": [
        {
          "output_type": "execute_result",
          "data": {
            "text/plain": [
              "shape: (20_676, 26)\n",
              "┌───────────┬───────────┬────────────┬──────────┬───┬──────────┬───────────┬───────────┬───────────┐\n",
              "│ playerID  ┆ birthYear ┆ birthMonth ┆ birthDay ┆ … ┆ retroID  ┆ bbrefID   ┆ deathDate ┆ birthDate │\n",
              "│ ---       ┆ ---       ┆ ---        ┆ ---      ┆   ┆ ---      ┆ ---       ┆ ---       ┆ ---       │\n",
              "│ str       ┆ i64       ┆ i64        ┆ i64      ┆   ┆ str      ┆ str       ┆ str       ┆ str       │\n",
              "╞═══════════╪═══════════╪════════════╪══════════╪═══╪══════════╪═══════════╪═══════════╪═══════════╡\n",
              "│ aardsda01 ┆ 1981      ┆ 12         ┆ 27       ┆ … ┆ aardd001 ┆ aardsda01 ┆ null      ┆ 1981-12-2 │\n",
              "│           ┆           ┆            ┆          ┆   ┆          ┆           ┆           ┆ 7         │\n",
              "│ aaronha01 ┆ 1934      ┆ 2          ┆ 5        ┆ … ┆ aaroh101 ┆ aaronha01 ┆ 2021-01-2 ┆ 1934-02-0 │\n",
              "│           ┆           ┆            ┆          ┆   ┆          ┆           ┆ 2         ┆ 5         │\n",
              "│ aaronto01 ┆ 1939      ┆ 8          ┆ 5        ┆ … ┆ aarot101 ┆ aaronto01 ┆ 1984-08-1 ┆ 1939-08-0 │\n",
              "│           ┆           ┆            ┆          ┆   ┆          ┆           ┆ 6         ┆ 5         │\n",
              "│ aasedo01  ┆ 1954      ┆ 9          ┆ 8        ┆ … ┆ aased001 ┆ aasedo01  ┆ null      ┆ 1954-09-0 │\n",
              "│           ┆           ┆            ┆          ┆   ┆          ┆           ┆           ┆ 8         │\n",
              "│ abadan01  ┆ 1972      ┆ 8          ┆ 25       ┆ … ┆ abada001 ┆ abadan01  ┆ null      ┆ 1972-08-2 │\n",
              "│           ┆           ┆            ┆          ┆   ┆          ┆           ┆           ┆ 5         │\n",
              "│ …         ┆ …         ┆ …          ┆ …        ┆ … ┆ …        ┆ …         ┆ …         ┆ …         │\n",
              "│ zupofr01  ┆ 1939      ┆ 8          ┆ 29       ┆ … ┆ zupof101 ┆ zupofr01  ┆ 2005-03-2 ┆ 1939-08-2 │\n",
              "│           ┆           ┆            ┆          ┆   ┆          ┆           ┆ 5         ┆ 9         │\n",
              "│ zuvelpa01 ┆ 1958      ┆ 10         ┆ 31       ┆ … ┆ zuvep001 ┆ zuvelpa01 ┆ null      ┆ 1958-10-3 │\n",
              "│           ┆           ┆            ┆          ┆   ┆          ┆           ┆           ┆ 1         │\n",
              "│ zuverge01 ┆ 1924      ┆ 8          ┆ 20       ┆ … ┆ zuveg101 ┆ zuverge01 ┆ 2014-09-0 ┆ 1924-08-2 │\n",
              "│           ┆           ┆            ┆          ┆   ┆          ┆           ┆ 8         ┆ 0         │\n",
              "│ zwilldu01 ┆ 1888      ┆ 11         ┆ 2        ┆ … ┆ zwild101 ┆ zwilldu01 ┆ 1978-03-2 ┆ 1888-11-0 │\n",
              "│           ┆           ┆            ┆          ┆   ┆          ┆           ┆ 7         ┆ 2         │\n",
              "│ zychto01  ┆ 1990      ┆ 8          ┆ 7        ┆ … ┆ zycht001 ┆ zychto01  ┆ null      ┆ 1990-08-0 │\n",
              "│           ┆           ┆            ┆          ┆   ┆          ┆           ┆           ┆ 7         │\n",
              "└───────────┴───────────┴────────────┴──────────┴───┴──────────┴───────────┴───────────┴───────────┘"
            ],
            "text/html": [
              "<div><style>\n",
              ".dataframe > thead > tr,\n",
              ".dataframe > tbody > tr {\n",
              "  text-align: right;\n",
              "  white-space: pre-wrap;\n",
              "}\n",
              "</style>\n",
              "<small>shape: (20_676, 26)</small><table border=\"1\" class=\"dataframe\"><thead><tr><th>playerID</th><th>birthYear</th><th>birthMonth</th><th>birthDay</th><th>birthCountry</th><th>birthState</th><th>birthCity</th><th>deathYear</th><th>deathMonth</th><th>deathDay</th><th>deathCountry</th><th>deathState</th><th>deathCity</th><th>nameFirst</th><th>nameLast</th><th>nameGiven</th><th>weight</th><th>height</th><th>bats</th><th>throws</th><th>debut</th><th>finalGame</th><th>retroID</th><th>bbrefID</th><th>deathDate</th><th>birthDate</th></tr><tr><td>str</td><td>i64</td><td>i64</td><td>i64</td><td>str</td><td>str</td><td>str</td><td>i64</td><td>i64</td><td>i64</td><td>str</td><td>str</td><td>str</td><td>str</td><td>str</td><td>str</td><td>i64</td><td>i64</td><td>str</td><td>str</td><td>str</td><td>str</td><td>str</td><td>str</td><td>str</td><td>str</td></tr></thead><tbody><tr><td>&quot;aardsda01&quot;</td><td>1981</td><td>12</td><td>27</td><td>&quot;USA&quot;</td><td>&quot;CO&quot;</td><td>&quot;Denver&quot;</td><td>null</td><td>null</td><td>null</td><td>null</td><td>null</td><td>null</td><td>&quot;David&quot;</td><td>&quot;Aardsma&quot;</td><td>&quot;David Allan&quot;</td><td>215</td><td>75</td><td>&quot;R&quot;</td><td>&quot;R&quot;</td><td>&quot;2004-04-06&quot;</td><td>&quot;2015-08-23&quot;</td><td>&quot;aardd001&quot;</td><td>&quot;aardsda01&quot;</td><td>null</td><td>&quot;1981-12-27&quot;</td></tr><tr><td>&quot;aaronha01&quot;</td><td>1934</td><td>2</td><td>5</td><td>&quot;USA&quot;</td><td>&quot;AL&quot;</td><td>&quot;Mobile&quot;</td><td>2021</td><td>1</td><td>22</td><td>&quot;USA&quot;</td><td>&quot;GA&quot;</td><td>&quot;Atlanta&quot;</td><td>&quot;Hank&quot;</td><td>&quot;Aaron&quot;</td><td>&quot;Henry Louis&quot;</td><td>180</td><td>72</td><td>&quot;R&quot;</td><td>&quot;R&quot;</td><td>&quot;1954-04-13&quot;</td><td>&quot;1976-10-03&quot;</td><td>&quot;aaroh101&quot;</td><td>&quot;aaronha01&quot;</td><td>&quot;2021-01-22&quot;</td><td>&quot;1934-02-05&quot;</td></tr><tr><td>&quot;aaronto01&quot;</td><td>1939</td><td>8</td><td>5</td><td>&quot;USA&quot;</td><td>&quot;AL&quot;</td><td>&quot;Mobile&quot;</td><td>1984</td><td>8</td><td>16</td><td>&quot;USA&quot;</td><td>&quot;GA&quot;</td><td>&quot;Atlanta&quot;</td><td>&quot;Tommie&quot;</td><td>&quot;Aaron&quot;</td><td>&quot;Tommie Lee&quot;</td><td>190</td><td>75</td><td>&quot;R&quot;</td><td>&quot;R&quot;</td><td>&quot;1962-04-10&quot;</td><td>&quot;1971-09-26&quot;</td><td>&quot;aarot101&quot;</td><td>&quot;aaronto01&quot;</td><td>&quot;1984-08-16&quot;</td><td>&quot;1939-08-05&quot;</td></tr><tr><td>&quot;aasedo01&quot;</td><td>1954</td><td>9</td><td>8</td><td>&quot;USA&quot;</td><td>&quot;CA&quot;</td><td>&quot;Orange&quot;</td><td>null</td><td>null</td><td>null</td><td>null</td><td>null</td><td>null</td><td>&quot;Don&quot;</td><td>&quot;Aase&quot;</td><td>&quot;Donald William&quot;</td><td>190</td><td>75</td><td>&quot;R&quot;</td><td>&quot;R&quot;</td><td>&quot;1977-07-26&quot;</td><td>&quot;1990-10-03&quot;</td><td>&quot;aased001&quot;</td><td>&quot;aasedo01&quot;</td><td>null</td><td>&quot;1954-09-08&quot;</td></tr><tr><td>&quot;abadan01&quot;</td><td>1972</td><td>8</td><td>25</td><td>&quot;USA&quot;</td><td>&quot;FL&quot;</td><td>&quot;Palm Beach&quot;</td><td>null</td><td>null</td><td>null</td><td>null</td><td>null</td><td>null</td><td>&quot;Andy&quot;</td><td>&quot;Abad&quot;</td><td>&quot;Fausto Andres&quot;</td><td>184</td><td>73</td><td>&quot;L&quot;</td><td>&quot;L&quot;</td><td>&quot;2001-09-10&quot;</td><td>&quot;2006-04-13&quot;</td><td>&quot;abada001&quot;</td><td>&quot;abadan01&quot;</td><td>null</td><td>&quot;1972-08-25&quot;</td></tr><tr><td>&hellip;</td><td>&hellip;</td><td>&hellip;</td><td>&hellip;</td><td>&hellip;</td><td>&hellip;</td><td>&hellip;</td><td>&hellip;</td><td>&hellip;</td><td>&hellip;</td><td>&hellip;</td><td>&hellip;</td><td>&hellip;</td><td>&hellip;</td><td>&hellip;</td><td>&hellip;</td><td>&hellip;</td><td>&hellip;</td><td>&hellip;</td><td>&hellip;</td><td>&hellip;</td><td>&hellip;</td><td>&hellip;</td><td>&hellip;</td><td>&hellip;</td><td>&hellip;</td></tr><tr><td>&quot;zupofr01&quot;</td><td>1939</td><td>8</td><td>29</td><td>&quot;USA&quot;</td><td>&quot;CA&quot;</td><td>&quot;San Francisco&quot;</td><td>2005</td><td>3</td><td>25</td><td>&quot;USA&quot;</td><td>&quot;CA&quot;</td><td>&quot;Burlingame&quot;</td><td>&quot;Frank&quot;</td><td>&quot;Zupo&quot;</td><td>&quot;Frank Joseph&quot;</td><td>182</td><td>71</td><td>&quot;L&quot;</td><td>&quot;R&quot;</td><td>&quot;1957-07-01&quot;</td><td>&quot;1961-05-09&quot;</td><td>&quot;zupof101&quot;</td><td>&quot;zupofr01&quot;</td><td>&quot;2005-03-25&quot;</td><td>&quot;1939-08-29&quot;</td></tr><tr><td>&quot;zuvelpa01&quot;</td><td>1958</td><td>10</td><td>31</td><td>&quot;USA&quot;</td><td>&quot;CA&quot;</td><td>&quot;San Mateo&quot;</td><td>null</td><td>null</td><td>null</td><td>null</td><td>null</td><td>null</td><td>&quot;Paul&quot;</td><td>&quot;Zuvella&quot;</td><td>&quot;Paul&quot;</td><td>173</td><td>72</td><td>&quot;R&quot;</td><td>&quot;R&quot;</td><td>&quot;1982-09-04&quot;</td><td>&quot;1991-05-02&quot;</td><td>&quot;zuvep001&quot;</td><td>&quot;zuvelpa01&quot;</td><td>null</td><td>&quot;1958-10-31&quot;</td></tr><tr><td>&quot;zuverge01&quot;</td><td>1924</td><td>8</td><td>20</td><td>&quot;USA&quot;</td><td>&quot;MI&quot;</td><td>&quot;Holland&quot;</td><td>2014</td><td>9</td><td>8</td><td>&quot;USA&quot;</td><td>&quot;AZ&quot;</td><td>&quot;Tempe&quot;</td><td>&quot;George&quot;</td><td>&quot;Zuverink&quot;</td><td>&quot;George&quot;</td><td>195</td><td>76</td><td>&quot;R&quot;</td><td>&quot;R&quot;</td><td>&quot;1951-04-21&quot;</td><td>&quot;1959-06-15&quot;</td><td>&quot;zuveg101&quot;</td><td>&quot;zuverge01&quot;</td><td>&quot;2014-09-08&quot;</td><td>&quot;1924-08-20&quot;</td></tr><tr><td>&quot;zwilldu01&quot;</td><td>1888</td><td>11</td><td>2</td><td>&quot;USA&quot;</td><td>&quot;MO&quot;</td><td>&quot;St. Louis&quot;</td><td>1978</td><td>3</td><td>27</td><td>&quot;USA&quot;</td><td>&quot;CA&quot;</td><td>&quot;La Crescenta&quot;</td><td>&quot;Dutch&quot;</td><td>&quot;Zwilling&quot;</td><td>&quot;Edward Harrison&quot;</td><td>160</td><td>66</td><td>&quot;L&quot;</td><td>&quot;L&quot;</td><td>&quot;1910-08-14&quot;</td><td>&quot;1916-07-12&quot;</td><td>&quot;zwild101&quot;</td><td>&quot;zwilldu01&quot;</td><td>&quot;1978-03-27&quot;</td><td>&quot;1888-11-02&quot;</td></tr><tr><td>&quot;zychto01&quot;</td><td>1990</td><td>8</td><td>7</td><td>&quot;USA&quot;</td><td>&quot;IL&quot;</td><td>&quot;Monee&quot;</td><td>null</td><td>null</td><td>null</td><td>null</td><td>null</td><td>null</td><td>&quot;Tony&quot;</td><td>&quot;Zych&quot;</td><td>&quot;Anthony Aaron&quot;</td><td>190</td><td>75</td><td>&quot;R&quot;</td><td>&quot;R&quot;</td><td>&quot;2015-09-04&quot;</td><td>&quot;2017-08-19&quot;</td><td>&quot;zycht001&quot;</td><td>&quot;zychto01&quot;</td><td>null</td><td>&quot;1990-08-07&quot;</td></tr></tbody></table></div>"
            ]
          },
          "metadata": {},
          "execution_count": 15
        }
      ]
    },
    {
      "cell_type": "code",
      "source": [
        "HallOfFame"
      ],
      "metadata": {
        "colab": {
          "base_uri": "https://localhost:8080/",
          "height": 443
        },
        "id": "-4M7TR6U8b2A",
        "outputId": "d18daa77-8541-4aec-f76f-a1cf22a48e17"
      },
      "execution_count": 16,
      "outputs": [
        {
          "output_type": "execute_result",
          "data": {
            "text/plain": [
              "shape: (4_323, 9)\n",
              "┌───────────┬────────┬──────────┬─────────┬───┬───────┬──────────┬───────────────────┬─────────────┐\n",
              "│ playerID  ┆ yearID ┆ votedBy  ┆ ballots ┆ … ┆ votes ┆ inducted ┆ category          ┆ needed_note │\n",
              "│ ---       ┆ ---    ┆ ---      ┆ ---     ┆   ┆ ---   ┆ ---      ┆ ---               ┆ ---         │\n",
              "│ str       ┆ i64    ┆ str      ┆ i64     ┆   ┆ i64   ┆ str      ┆ str               ┆ str         │\n",
              "╞═══════════╪════════╪══════════╪═════════╪═══╪═══════╪══════════╪═══════════════════╪═════════════╡\n",
              "│ cobbty01  ┆ 1936   ┆ BBWAA    ┆ 226     ┆ … ┆ 222   ┆ Y        ┆ Player            ┆ null        │\n",
              "│ ruthba01  ┆ 1936   ┆ BBWAA    ┆ 226     ┆ … ┆ 215   ┆ Y        ┆ Player            ┆ null        │\n",
              "│ wagneho01 ┆ 1936   ┆ BBWAA    ┆ 226     ┆ … ┆ 215   ┆ Y        ┆ Player            ┆ null        │\n",
              "│ mathech01 ┆ 1936   ┆ BBWAA    ┆ 226     ┆ … ┆ 205   ┆ Y        ┆ Player            ┆ null        │\n",
              "│ johnswa01 ┆ 1936   ┆ BBWAA    ┆ 226     ┆ … ┆ 189   ┆ Y        ┆ Player            ┆ null        │\n",
              "│ …         ┆ …      ┆ …        ┆ …       ┆ … ┆ …     ┆ …        ┆ …                 ┆ …           │\n",
              "│ hodgegi01 ┆ 2022   ┆ Veterans ┆ null    ┆ … ┆ null  ┆ Y        ┆ Player            ┆ null        │\n",
              "│ kaatji01  ┆ 2022   ┆ Veterans ┆ null    ┆ … ┆ null  ┆ Y        ┆ Player            ┆ null        │\n",
              "│ minosmi01 ┆ 2022   ┆ Veterans ┆ null    ┆ … ┆ null  ┆ Y        ┆ Player            ┆ null        │\n",
              "│ oneilbu01 ┆ 2022   ┆ Veterans ┆ null    ┆ … ┆ null  ┆ Y        ┆ Pioneer/Executive ┆ null        │\n",
              "│ olivato01 ┆ 2022   ┆ Veterans ┆ null    ┆ … ┆ null  ┆ Y        ┆ Player            ┆ null        │\n",
              "└───────────┴────────┴──────────┴─────────┴───┴───────┴──────────┴───────────────────┴─────────────┘"
            ],
            "text/html": [
              "<div><style>\n",
              ".dataframe > thead > tr,\n",
              ".dataframe > tbody > tr {\n",
              "  text-align: right;\n",
              "  white-space: pre-wrap;\n",
              "}\n",
              "</style>\n",
              "<small>shape: (4_323, 9)</small><table border=\"1\" class=\"dataframe\"><thead><tr><th>playerID</th><th>yearID</th><th>votedBy</th><th>ballots</th><th>needed</th><th>votes</th><th>inducted</th><th>category</th><th>needed_note</th></tr><tr><td>str</td><td>i64</td><td>str</td><td>i64</td><td>i64</td><td>i64</td><td>str</td><td>str</td><td>str</td></tr></thead><tbody><tr><td>&quot;cobbty01&quot;</td><td>1936</td><td>&quot;BBWAA&quot;</td><td>226</td><td>170</td><td>222</td><td>&quot;Y&quot;</td><td>&quot;Player&quot;</td><td>null</td></tr><tr><td>&quot;ruthba01&quot;</td><td>1936</td><td>&quot;BBWAA&quot;</td><td>226</td><td>170</td><td>215</td><td>&quot;Y&quot;</td><td>&quot;Player&quot;</td><td>null</td></tr><tr><td>&quot;wagneho01&quot;</td><td>1936</td><td>&quot;BBWAA&quot;</td><td>226</td><td>170</td><td>215</td><td>&quot;Y&quot;</td><td>&quot;Player&quot;</td><td>null</td></tr><tr><td>&quot;mathech01&quot;</td><td>1936</td><td>&quot;BBWAA&quot;</td><td>226</td><td>170</td><td>205</td><td>&quot;Y&quot;</td><td>&quot;Player&quot;</td><td>null</td></tr><tr><td>&quot;johnswa01&quot;</td><td>1936</td><td>&quot;BBWAA&quot;</td><td>226</td><td>170</td><td>189</td><td>&quot;Y&quot;</td><td>&quot;Player&quot;</td><td>null</td></tr><tr><td>&hellip;</td><td>&hellip;</td><td>&hellip;</td><td>&hellip;</td><td>&hellip;</td><td>&hellip;</td><td>&hellip;</td><td>&hellip;</td><td>&hellip;</td></tr><tr><td>&quot;hodgegi01&quot;</td><td>2022</td><td>&quot;Veterans&quot;</td><td>null</td><td>null</td><td>null</td><td>&quot;Y&quot;</td><td>&quot;Player&quot;</td><td>null</td></tr><tr><td>&quot;kaatji01&quot;</td><td>2022</td><td>&quot;Veterans&quot;</td><td>null</td><td>null</td><td>null</td><td>&quot;Y&quot;</td><td>&quot;Player&quot;</td><td>null</td></tr><tr><td>&quot;minosmi01&quot;</td><td>2022</td><td>&quot;Veterans&quot;</td><td>null</td><td>null</td><td>null</td><td>&quot;Y&quot;</td><td>&quot;Player&quot;</td><td>null</td></tr><tr><td>&quot;oneilbu01&quot;</td><td>2022</td><td>&quot;Veterans&quot;</td><td>null</td><td>null</td><td>null</td><td>&quot;Y&quot;</td><td>&quot;Pioneer/Executive&quot;</td><td>null</td></tr><tr><td>&quot;olivato01&quot;</td><td>2022</td><td>&quot;Veterans&quot;</td><td>null</td><td>null</td><td>null</td><td>&quot;Y&quot;</td><td>&quot;Player&quot;</td><td>null</td></tr></tbody></table></div>"
            ]
          },
          "metadata": {},
          "execution_count": 16
        }
      ]
    },
    {
      "cell_type": "markdown",
      "metadata": {
        "id": "M9wo7SwoyU1y"
      },
      "source": [
        "## Question 2: How many home runs (`HR`) were hit by players born in Florida?\n",
        "\n",
        "#### Part A: Join the `Batting` and `People` DataFrames together\n",
        "\n",
        "In order to answer this question, you'll need to use the `Batting` and `People` DataFrames. The `Batting` DataFrame has hitting statistics for every season that an individual player has played. The `People` DataFrame represents biographical data about every professional baseball player.\n",
        "\n",
        "Join the `People` DataFrame into the `Batting` DataFrame so that we can perform analysis on batting statistics using columns from the `People` DataFrame. Name the new DataFrame `stats_w_bio`.\n",
        "\n",
        "*Insert a code block that joins the `Batting` DataFrame to the `People` DataFrame.*"
      ]
    },
    {
      "cell_type": "code",
      "execution_count": 17,
      "metadata": {
        "id": "BOYs3snEyU1y"
      },
      "outputs": [],
      "source": [
        "# Join Batting and People DataFrames\n",
        "stats_w_bio = Batting.join(\n",
        "    People,\n",
        "    on=\"playerID\",\n",
        "    how=\"left\"\n",
        ")"
      ]
    },
    {
      "cell_type": "code",
      "source": [
        "stats_w_bio"
      ],
      "metadata": {
        "colab": {
          "base_uri": "https://localhost:8080/",
          "height": 637
        },
        "id": "Kk9iKMaz8-vV",
        "outputId": "ec5af5f2-5e9b-4a4b-c105-f04090961f5c"
      },
      "execution_count": 18,
      "outputs": [
        {
          "output_type": "execute_result",
          "data": {
            "text/plain": [
              "shape: (112_184, 47)\n",
              "┌───────────┬────────┬───────┬────────┬───┬──────────┬───────────┬────────────┬────────────┐\n",
              "│ playerID  ┆ yearID ┆ stint ┆ teamID ┆ … ┆ retroID  ┆ bbrefID   ┆ deathDate  ┆ birthDate  │\n",
              "│ ---       ┆ ---    ┆ ---   ┆ ---    ┆   ┆ ---      ┆ ---       ┆ ---        ┆ ---        │\n",
              "│ str       ┆ i64    ┆ i64   ┆ str    ┆   ┆ str      ┆ str       ┆ str        ┆ str        │\n",
              "╞═══════════╪════════╪═══════╪════════╪═══╪══════════╪═══════════╪════════════╪════════════╡\n",
              "│ abercda01 ┆ 1871   ┆ 1     ┆ TRO    ┆ … ┆ aberd101 ┆ abercda01 ┆ 1939-11-11 ┆ 1850-01-02 │\n",
              "│ addybo01  ┆ 1871   ┆ 1     ┆ RC1    ┆ … ┆ addyb101 ┆ addybo01  ┆ 1910-04-09 ┆ null       │\n",
              "│ allisar01 ┆ 1871   ┆ 1     ┆ CL1    ┆ … ┆ allia101 ┆ allisar01 ┆ 1916-02-25 ┆ 1849-01-29 │\n",
              "│ allisdo01 ┆ 1871   ┆ 1     ┆ WS3    ┆ … ┆ allid101 ┆ allisdo01 ┆ 1916-12-19 ┆ 1846-07-12 │\n",
              "│ ansonca01 ┆ 1871   ┆ 1     ┆ RC1    ┆ … ┆ ansoc101 ┆ ansonca01 ┆ 1922-04-14 ┆ 1852-04-17 │\n",
              "│ …         ┆ …      ┆ …     ┆ …      ┆ … ┆ …        ┆ …         ┆ …          ┆ …          │\n",
              "│ zimmebr01 ┆ 2022   ┆ 1     ┆ TOR    ┆ … ┆ zimmb001 ┆ zimmebr01 ┆ null       ┆ 1992-11-27 │\n",
              "│ zimmebr01 ┆ 2022   ┆ 2     ┆ PHI    ┆ … ┆ zimmb001 ┆ zimmebr01 ┆ null       ┆ 1992-11-27 │\n",
              "│ zimmebr01 ┆ 2022   ┆ 3     ┆ TOR    ┆ … ┆ zimmb001 ┆ zimmebr01 ┆ null       ┆ 1992-11-27 │\n",
              "│ zimmebr02 ┆ 2022   ┆ 1     ┆ BAL    ┆ … ┆ zimmb002 ┆ zimmebr02 ┆ null       ┆ 1995-02-09 │\n",
              "│ zuninmi01 ┆ 2022   ┆ 1     ┆ TBA    ┆ … ┆ zunim001 ┆ zuninmi01 ┆ null       ┆ 1991-03-25 │\n",
              "└───────────┴────────┴───────┴────────┴───┴──────────┴───────────┴────────────┴────────────┘"
            ],
            "text/html": [
              "<div><style>\n",
              ".dataframe > thead > tr,\n",
              ".dataframe > tbody > tr {\n",
              "  text-align: right;\n",
              "  white-space: pre-wrap;\n",
              "}\n",
              "</style>\n",
              "<small>shape: (112_184, 47)</small><table border=\"1\" class=\"dataframe\"><thead><tr><th>playerID</th><th>yearID</th><th>stint</th><th>teamID</th><th>lgID</th><th>G</th><th>AB</th><th>R</th><th>H</th><th>X2B</th><th>X3B</th><th>HR</th><th>RBI</th><th>SB</th><th>CS</th><th>BB</th><th>SO</th><th>IBB</th><th>HBP</th><th>SH</th><th>SF</th><th>GIDP</th><th>birthYear</th><th>birthMonth</th><th>birthDay</th><th>birthCountry</th><th>birthState</th><th>birthCity</th><th>deathYear</th><th>deathMonth</th><th>deathDay</th><th>deathCountry</th><th>deathState</th><th>deathCity</th><th>nameFirst</th><th>nameLast</th><th>nameGiven</th><th>weight</th><th>height</th><th>bats</th><th>throws</th><th>debut</th><th>finalGame</th><th>retroID</th><th>bbrefID</th><th>deathDate</th><th>birthDate</th></tr><tr><td>str</td><td>i64</td><td>i64</td><td>str</td><td>str</td><td>i64</td><td>i64</td><td>i64</td><td>i64</td><td>i64</td><td>i64</td><td>i64</td><td>i64</td><td>i64</td><td>i64</td><td>i64</td><td>i64</td><td>str</td><td>str</td><td>str</td><td>str</td><td>i64</td><td>i64</td><td>i64</td><td>i64</td><td>str</td><td>str</td><td>str</td><td>i64</td><td>i64</td><td>i64</td><td>str</td><td>str</td><td>str</td><td>str</td><td>str</td><td>str</td><td>i64</td><td>i64</td><td>str</td><td>str</td><td>str</td><td>str</td><td>str</td><td>str</td><td>str</td><td>str</td></tr></thead><tbody><tr><td>&quot;abercda01&quot;</td><td>1871</td><td>1</td><td>&quot;TRO&quot;</td><td>null</td><td>1</td><td>4</td><td>0</td><td>0</td><td>0</td><td>0</td><td>0</td><td>0</td><td>0</td><td>0</td><td>0</td><td>0</td><td>null</td><td>null</td><td>null</td><td>null</td><td>0</td><td>1850</td><td>1</td><td>2</td><td>&quot;USA&quot;</td><td>&quot;OK&quot;</td><td>&quot;Fort Towson&quot;</td><td>1939</td><td>11</td><td>11</td><td>&quot;USA&quot;</td><td>&quot;PA&quot;</td><td>&quot;Philadelphia&quot;</td><td>&quot;Frank&quot;</td><td>&quot;Abercrombie&quot;</td><td>&quot;Francis Patterson&quot;</td><td>null</td><td>null</td><td>null</td><td>null</td><td>&quot;1871-10-21&quot;</td><td>&quot;1871-10-21&quot;</td><td>&quot;aberd101&quot;</td><td>&quot;abercda01&quot;</td><td>&quot;1939-11-11&quot;</td><td>&quot;1850-01-02&quot;</td></tr><tr><td>&quot;addybo01&quot;</td><td>1871</td><td>1</td><td>&quot;RC1&quot;</td><td>null</td><td>25</td><td>118</td><td>30</td><td>32</td><td>6</td><td>0</td><td>0</td><td>13</td><td>8</td><td>1</td><td>4</td><td>0</td><td>null</td><td>null</td><td>null</td><td>null</td><td>0</td><td>1842</td><td>2</td><td>null</td><td>&quot;CAN&quot;</td><td>&quot;ON&quot;</td><td>&quot;Port Hope&quot;</td><td>1910</td><td>4</td><td>9</td><td>&quot;USA&quot;</td><td>&quot;ID&quot;</td><td>&quot;Pocatello&quot;</td><td>&quot;Bob&quot;</td><td>&quot;Addy&quot;</td><td>&quot;Robert Edward&quot;</td><td>160</td><td>68</td><td>&quot;L&quot;</td><td>&quot;L&quot;</td><td>&quot;1871-05-06&quot;</td><td>&quot;1877-10-06&quot;</td><td>&quot;addyb101&quot;</td><td>&quot;addybo01&quot;</td><td>&quot;1910-04-09&quot;</td><td>null</td></tr><tr><td>&quot;allisar01&quot;</td><td>1871</td><td>1</td><td>&quot;CL1&quot;</td><td>null</td><td>29</td><td>137</td><td>28</td><td>40</td><td>4</td><td>5</td><td>0</td><td>19</td><td>3</td><td>1</td><td>2</td><td>5</td><td>null</td><td>null</td><td>null</td><td>null</td><td>1</td><td>1849</td><td>1</td><td>29</td><td>&quot;USA&quot;</td><td>&quot;PA&quot;</td><td>&quot;Philadelphia&quot;</td><td>1916</td><td>2</td><td>25</td><td>&quot;USA&quot;</td><td>&quot;DC&quot;</td><td>&quot;Washington&quot;</td><td>&quot;Art&quot;</td><td>&quot;Allison&quot;</td><td>&quot;Arthur Algernon&quot;</td><td>150</td><td>68</td><td>null</td><td>null</td><td>&quot;1871-05-04&quot;</td><td>&quot;1876-10-05&quot;</td><td>&quot;allia101&quot;</td><td>&quot;allisar01&quot;</td><td>&quot;1916-02-25&quot;</td><td>&quot;1849-01-29&quot;</td></tr><tr><td>&quot;allisdo01&quot;</td><td>1871</td><td>1</td><td>&quot;WS3&quot;</td><td>null</td><td>27</td><td>133</td><td>28</td><td>44</td><td>10</td><td>2</td><td>2</td><td>27</td><td>1</td><td>1</td><td>0</td><td>2</td><td>null</td><td>null</td><td>null</td><td>null</td><td>0</td><td>1846</td><td>7</td><td>12</td><td>&quot;USA&quot;</td><td>&quot;PA&quot;</td><td>&quot;Philadelphia&quot;</td><td>1916</td><td>12</td><td>19</td><td>&quot;USA&quot;</td><td>&quot;DC&quot;</td><td>&quot;Washington&quot;</td><td>&quot;Doug&quot;</td><td>&quot;Allison&quot;</td><td>&quot;Douglas L.&quot;</td><td>160</td><td>70</td><td>&quot;R&quot;</td><td>&quot;R&quot;</td><td>&quot;1871-05-05&quot;</td><td>&quot;1883-07-13&quot;</td><td>&quot;allid101&quot;</td><td>&quot;allisdo01&quot;</td><td>&quot;1916-12-19&quot;</td><td>&quot;1846-07-12&quot;</td></tr><tr><td>&quot;ansonca01&quot;</td><td>1871</td><td>1</td><td>&quot;RC1&quot;</td><td>null</td><td>25</td><td>120</td><td>29</td><td>39</td><td>11</td><td>3</td><td>0</td><td>16</td><td>6</td><td>2</td><td>2</td><td>1</td><td>null</td><td>null</td><td>null</td><td>null</td><td>0</td><td>1852</td><td>4</td><td>17</td><td>&quot;USA&quot;</td><td>&quot;IA&quot;</td><td>&quot;Marshalltown&quot;</td><td>1922</td><td>4</td><td>14</td><td>&quot;USA&quot;</td><td>&quot;IL&quot;</td><td>&quot;Chicago&quot;</td><td>&quot;Cap&quot;</td><td>&quot;Anson&quot;</td><td>&quot;Adrian Constantine&quot;</td><td>227</td><td>72</td><td>&quot;R&quot;</td><td>&quot;R&quot;</td><td>&quot;1871-05-06&quot;</td><td>&quot;1897-10-03&quot;</td><td>&quot;ansoc101&quot;</td><td>&quot;ansonca01&quot;</td><td>&quot;1922-04-14&quot;</td><td>&quot;1852-04-17&quot;</td></tr><tr><td>&hellip;</td><td>&hellip;</td><td>&hellip;</td><td>&hellip;</td><td>&hellip;</td><td>&hellip;</td><td>&hellip;</td><td>&hellip;</td><td>&hellip;</td><td>&hellip;</td><td>&hellip;</td><td>&hellip;</td><td>&hellip;</td><td>&hellip;</td><td>&hellip;</td><td>&hellip;</td><td>&hellip;</td><td>&hellip;</td><td>&hellip;</td><td>&hellip;</td><td>&hellip;</td><td>&hellip;</td><td>&hellip;</td><td>&hellip;</td><td>&hellip;</td><td>&hellip;</td><td>&hellip;</td><td>&hellip;</td><td>&hellip;</td><td>&hellip;</td><td>&hellip;</td><td>&hellip;</td><td>&hellip;</td><td>&hellip;</td><td>&hellip;</td><td>&hellip;</td><td>&hellip;</td><td>&hellip;</td><td>&hellip;</td><td>&hellip;</td><td>&hellip;</td><td>&hellip;</td><td>&hellip;</td><td>&hellip;</td><td>&hellip;</td><td>&hellip;</td><td>&hellip;</td></tr><tr><td>&quot;zimmebr01&quot;</td><td>2022</td><td>1</td><td>&quot;TOR&quot;</td><td>&quot;AL&quot;</td><td>77</td><td>76</td><td>11</td><td>8</td><td>4</td><td>0</td><td>2</td><td>3</td><td>2</td><td>1</td><td>5</td><td>33</td><td>&quot;0&quot;</td><td>&quot;5&quot;</td><td>&quot;1&quot;</td><td>&quot;0&quot;</td><td>0</td><td>1992</td><td>11</td><td>27</td><td>&quot;USA&quot;</td><td>&quot;CA&quot;</td><td>&quot;San Francisco&quot;</td><td>null</td><td>null</td><td>null</td><td>null</td><td>null</td><td>null</td><td>&quot;Bradley&quot;</td><td>&quot;Zimmer&quot;</td><td>&quot;Bradley Clarke&quot;</td><td>185</td><td>76</td><td>&quot;L&quot;</td><td>&quot;R&quot;</td><td>&quot;2017-05-16&quot;</td><td>&quot;2022-10-05&quot;</td><td>&quot;zimmb001&quot;</td><td>&quot;zimmebr01&quot;</td><td>null</td><td>&quot;1992-11-27&quot;</td></tr><tr><td>&quot;zimmebr01&quot;</td><td>2022</td><td>2</td><td>&quot;PHI&quot;</td><td>&quot;NL&quot;</td><td>9</td><td>16</td><td>4</td><td>4</td><td>1</td><td>0</td><td>0</td><td>0</td><td>0</td><td>0</td><td>0</td><td>4</td><td>&quot;0&quot;</td><td>&quot;0&quot;</td><td>&quot;0&quot;</td><td>&quot;0&quot;</td><td>0</td><td>1992</td><td>11</td><td>27</td><td>&quot;USA&quot;</td><td>&quot;CA&quot;</td><td>&quot;San Francisco&quot;</td><td>null</td><td>null</td><td>null</td><td>null</td><td>null</td><td>null</td><td>&quot;Bradley&quot;</td><td>&quot;Zimmer&quot;</td><td>&quot;Bradley Clarke&quot;</td><td>185</td><td>76</td><td>&quot;L&quot;</td><td>&quot;R&quot;</td><td>&quot;2017-05-16&quot;</td><td>&quot;2022-10-05&quot;</td><td>&quot;zimmb001&quot;</td><td>&quot;zimmebr01&quot;</td><td>null</td><td>&quot;1992-11-27&quot;</td></tr><tr><td>&quot;zimmebr01&quot;</td><td>2022</td><td>3</td><td>&quot;TOR&quot;</td><td>&quot;AL&quot;</td><td>23</td><td>13</td><td>3</td><td>1</td><td>0</td><td>0</td><td>0</td><td>2</td><td>1</td><td>1</td><td>0</td><td>8</td><td>&quot;0&quot;</td><td>&quot;1&quot;</td><td>&quot;0&quot;</td><td>&quot;0&quot;</td><td>0</td><td>1992</td><td>11</td><td>27</td><td>&quot;USA&quot;</td><td>&quot;CA&quot;</td><td>&quot;San Francisco&quot;</td><td>null</td><td>null</td><td>null</td><td>null</td><td>null</td><td>null</td><td>&quot;Bradley&quot;</td><td>&quot;Zimmer&quot;</td><td>&quot;Bradley Clarke&quot;</td><td>185</td><td>76</td><td>&quot;L&quot;</td><td>&quot;R&quot;</td><td>&quot;2017-05-16&quot;</td><td>&quot;2022-10-05&quot;</td><td>&quot;zimmb001&quot;</td><td>&quot;zimmebr01&quot;</td><td>null</td><td>&quot;1992-11-27&quot;</td></tr><tr><td>&quot;zimmebr02&quot;</td><td>2022</td><td>1</td><td>&quot;BAL&quot;</td><td>&quot;AL&quot;</td><td>15</td><td>0</td><td>0</td><td>0</td><td>0</td><td>0</td><td>0</td><td>0</td><td>0</td><td>0</td><td>0</td><td>0</td><td>&quot;0&quot;</td><td>&quot;0&quot;</td><td>&quot;0&quot;</td><td>&quot;0&quot;</td><td>0</td><td>1995</td><td>2</td><td>9</td><td>&quot;USA&quot;</td><td>&quot;MD&quot;</td><td>&quot;Baltimore&quot;</td><td>null</td><td>null</td><td>null</td><td>null</td><td>null</td><td>null</td><td>&quot;Bruce&quot;</td><td>&quot;Zimmermann&quot;</td><td>&quot;Bruce Anthony&quot;</td><td>215</td><td>73</td><td>&quot;L&quot;</td><td>&quot;L&quot;</td><td>&quot;2020-09-17&quot;</td><td>&quot;2022-09-05&quot;</td><td>&quot;zimmb002&quot;</td><td>&quot;zimmebr02&quot;</td><td>null</td><td>&quot;1995-02-09&quot;</td></tr><tr><td>&quot;zuninmi01&quot;</td><td>2022</td><td>1</td><td>&quot;TBA&quot;</td><td>&quot;AL&quot;</td><td>36</td><td>115</td><td>7</td><td>17</td><td>3</td><td>0</td><td>5</td><td>16</td><td>0</td><td>0</td><td>6</td><td>46</td><td>&quot;0&quot;</td><td>&quot;1&quot;</td><td>&quot;0&quot;</td><td>&quot;1&quot;</td><td>2</td><td>1991</td><td>3</td><td>25</td><td>&quot;USA&quot;</td><td>&quot;FL&quot;</td><td>&quot;Cape Coral&quot;</td><td>null</td><td>null</td><td>null</td><td>null</td><td>null</td><td>null</td><td>&quot;Mike&quot;</td><td>&quot;Zunino&quot;</td><td>&quot;Michael Accorsi&quot;</td><td>235</td><td>74</td><td>&quot;R&quot;</td><td>&quot;R&quot;</td><td>&quot;2013-06-12&quot;</td><td>&quot;2022-06-09&quot;</td><td>&quot;zunim001&quot;</td><td>&quot;zuninmi01&quot;</td><td>null</td><td>&quot;1991-03-25&quot;</td></tr></tbody></table></div>"
            ]
          },
          "metadata": {},
          "execution_count": 18
        }
      ]
    },
    {
      "cell_type": "code",
      "source": [
        "stats_hr = stats_w_bio.filter(pl.col(\"HR\") > 0)\n",
        "stats_hr"
      ],
      "metadata": {
        "colab": {
          "base_uri": "https://localhost:8080/",
          "height": 637
        },
        "id": "Gx1_Wzf08VnS",
        "outputId": "41a38594-278c-4a56-ac3d-1b625f729b6f"
      },
      "execution_count": 19,
      "outputs": [
        {
          "output_type": "execute_result",
          "data": {
            "text/plain": [
              "shape: (43_255, 47)\n",
              "┌───────────┬────────┬───────┬────────┬───┬──────────┬───────────┬────────────┬────────────┐\n",
              "│ playerID  ┆ yearID ┆ stint ┆ teamID ┆ … ┆ retroID  ┆ bbrefID   ┆ deathDate  ┆ birthDate  │\n",
              "│ ---       ┆ ---    ┆ ---   ┆ ---    ┆   ┆ ---      ┆ ---       ┆ ---        ┆ ---        │\n",
              "│ str       ┆ i64    ┆ i64   ┆ str    ┆   ┆ str      ┆ str       ┆ str        ┆ str        │\n",
              "╞═══════════╪════════╪═══════╪════════╪═══╪══════════╪═══════════╪════════════╪════════════╡\n",
              "│ allisdo01 ┆ 1871   ┆ 1     ┆ WS3    ┆ … ┆ allid101 ┆ allisdo01 ┆ 1916-12-19 ┆ 1846-07-12 │\n",
              "│ bassjo01  ┆ 1871   ┆ 1     ┆ CL1    ┆ … ┆ bassj101 ┆ bassjo01  ┆ 1888-09-25 ┆ null       │\n",
              "│ bechtge01 ┆ 1871   ┆ 1     ┆ PH1    ┆ … ┆ bechg101 ┆ bechtge01 ┆ 1921-04-03 ┆ 1848-09-02 │\n",
              "│ burrohe01 ┆ 1871   ┆ 1     ┆ WS3    ┆ … ┆ burrh101 ┆ burrohe01 ┆ 1878-03-31 ┆ 1845-02-03 │\n",
              "│ cuthbne01 ┆ 1871   ┆ 1     ┆ PH1    ┆ … ┆ cuthn101 ┆ cuthbne01 ┆ 1905-02-06 ┆ 1845-06-20 │\n",
              "│ …         ┆ …      ┆ …     ┆ …      ┆ … ┆ …        ┆ …         ┆ …          ┆ …          │\n",
              "│ yelicch01 ┆ 2022   ┆ 1     ┆ MIL    ┆ … ┆ yelic001 ┆ yelicch01 ┆ null       ┆ 1991-12-05 │\n",
              "│ yepezju01 ┆ 2022   ┆ 1     ┆ SLN    ┆ … ┆ yepej001 ┆ yepezju01 ┆ null       ┆ 1998-02-19 │\n",
              "│ zavalse01 ┆ 2022   ┆ 1     ┆ CHA    ┆ … ┆ zavas001 ┆ zavalse01 ┆ null       ┆ 1993-08-28 │\n",
              "│ zimmebr01 ┆ 2022   ┆ 1     ┆ TOR    ┆ … ┆ zimmb001 ┆ zimmebr01 ┆ null       ┆ 1992-11-27 │\n",
              "│ zuninmi01 ┆ 2022   ┆ 1     ┆ TBA    ┆ … ┆ zunim001 ┆ zuninmi01 ┆ null       ┆ 1991-03-25 │\n",
              "└───────────┴────────┴───────┴────────┴───┴──────────┴───────────┴────────────┴────────────┘"
            ],
            "text/html": [
              "<div><style>\n",
              ".dataframe > thead > tr,\n",
              ".dataframe > tbody > tr {\n",
              "  text-align: right;\n",
              "  white-space: pre-wrap;\n",
              "}\n",
              "</style>\n",
              "<small>shape: (43_255, 47)</small><table border=\"1\" class=\"dataframe\"><thead><tr><th>playerID</th><th>yearID</th><th>stint</th><th>teamID</th><th>lgID</th><th>G</th><th>AB</th><th>R</th><th>H</th><th>X2B</th><th>X3B</th><th>HR</th><th>RBI</th><th>SB</th><th>CS</th><th>BB</th><th>SO</th><th>IBB</th><th>HBP</th><th>SH</th><th>SF</th><th>GIDP</th><th>birthYear</th><th>birthMonth</th><th>birthDay</th><th>birthCountry</th><th>birthState</th><th>birthCity</th><th>deathYear</th><th>deathMonth</th><th>deathDay</th><th>deathCountry</th><th>deathState</th><th>deathCity</th><th>nameFirst</th><th>nameLast</th><th>nameGiven</th><th>weight</th><th>height</th><th>bats</th><th>throws</th><th>debut</th><th>finalGame</th><th>retroID</th><th>bbrefID</th><th>deathDate</th><th>birthDate</th></tr><tr><td>str</td><td>i64</td><td>i64</td><td>str</td><td>str</td><td>i64</td><td>i64</td><td>i64</td><td>i64</td><td>i64</td><td>i64</td><td>i64</td><td>i64</td><td>i64</td><td>i64</td><td>i64</td><td>i64</td><td>str</td><td>str</td><td>str</td><td>str</td><td>i64</td><td>i64</td><td>i64</td><td>i64</td><td>str</td><td>str</td><td>str</td><td>i64</td><td>i64</td><td>i64</td><td>str</td><td>str</td><td>str</td><td>str</td><td>str</td><td>str</td><td>i64</td><td>i64</td><td>str</td><td>str</td><td>str</td><td>str</td><td>str</td><td>str</td><td>str</td><td>str</td></tr></thead><tbody><tr><td>&quot;allisdo01&quot;</td><td>1871</td><td>1</td><td>&quot;WS3&quot;</td><td>null</td><td>27</td><td>133</td><td>28</td><td>44</td><td>10</td><td>2</td><td>2</td><td>27</td><td>1</td><td>1</td><td>0</td><td>2</td><td>null</td><td>null</td><td>null</td><td>null</td><td>0</td><td>1846</td><td>7</td><td>12</td><td>&quot;USA&quot;</td><td>&quot;PA&quot;</td><td>&quot;Philadelphia&quot;</td><td>1916</td><td>12</td><td>19</td><td>&quot;USA&quot;</td><td>&quot;DC&quot;</td><td>&quot;Washington&quot;</td><td>&quot;Doug&quot;</td><td>&quot;Allison&quot;</td><td>&quot;Douglas L.&quot;</td><td>160</td><td>70</td><td>&quot;R&quot;</td><td>&quot;R&quot;</td><td>&quot;1871-05-05&quot;</td><td>&quot;1883-07-13&quot;</td><td>&quot;allid101&quot;</td><td>&quot;allisdo01&quot;</td><td>&quot;1916-12-19&quot;</td><td>&quot;1846-07-12&quot;</td></tr><tr><td>&quot;bassjo01&quot;</td><td>1871</td><td>1</td><td>&quot;CL1&quot;</td><td>null</td><td>22</td><td>89</td><td>18</td><td>27</td><td>1</td><td>10</td><td>3</td><td>18</td><td>0</td><td>1</td><td>3</td><td>4</td><td>null</td><td>null</td><td>null</td><td>null</td><td>0</td><td>1848</td><td>null</td><td>null</td><td>&quot;USA&quot;</td><td>&quot;MD&quot;</td><td>&quot;Charleston&quot;</td><td>1888</td><td>9</td><td>25</td><td>&quot;USA&quot;</td><td>&quot;CO&quot;</td><td>&quot;Denver&quot;</td><td>&quot;John&quot;</td><td>&quot;Bass&quot;</td><td>&quot;John Elias&quot;</td><td>150</td><td>66</td><td>null</td><td>null</td><td>&quot;1871-05-04&quot;</td><td>&quot;1877-08-20&quot;</td><td>&quot;bassj101&quot;</td><td>&quot;bassjo01&quot;</td><td>&quot;1888-09-25&quot;</td><td>null</td></tr><tr><td>&quot;bechtge01&quot;</td><td>1871</td><td>1</td><td>&quot;PH1&quot;</td><td>null</td><td>20</td><td>94</td><td>24</td><td>33</td><td>9</td><td>1</td><td>1</td><td>21</td><td>4</td><td>0</td><td>2</td><td>2</td><td>null</td><td>null</td><td>null</td><td>null</td><td>1</td><td>1848</td><td>9</td><td>2</td><td>&quot;USA&quot;</td><td>&quot;PA&quot;</td><td>&quot;Philadelphia&quot;</td><td>1921</td><td>4</td><td>3</td><td>&quot;USA&quot;</td><td>&quot;PA&quot;</td><td>&quot;Philadelphia&quot;</td><td>&quot;George&quot;</td><td>&quot;Bechtel&quot;</td><td>&quot;George W.&quot;</td><td>165</td><td>71</td><td>null</td><td>null</td><td>&quot;1871-05-20&quot;</td><td>&quot;1876-08-19&quot;</td><td>&quot;bechg101&quot;</td><td>&quot;bechtge01&quot;</td><td>&quot;1921-04-03&quot;</td><td>&quot;1848-09-02&quot;</td></tr><tr><td>&quot;burrohe01&quot;</td><td>1871</td><td>1</td><td>&quot;WS3&quot;</td><td>null</td><td>12</td><td>63</td><td>11</td><td>15</td><td>2</td><td>3</td><td>1</td><td>14</td><td>0</td><td>0</td><td>1</td><td>1</td><td>null</td><td>null</td><td>null</td><td>null</td><td>0</td><td>1845</td><td>2</td><td>3</td><td>&quot;USA&quot;</td><td>&quot;NJ&quot;</td><td>&quot;Newark&quot;</td><td>1878</td><td>3</td><td>31</td><td>&quot;USA&quot;</td><td>&quot;NJ&quot;</td><td>&quot;Newark&quot;</td><td>&quot;Henry&quot;</td><td>&quot;Burroughs&quot;</td><td>&quot;Henry S.&quot;</td><td>147</td><td>68</td><td>null</td><td>null</td><td>&quot;1871-05-05&quot;</td><td>&quot;1872-05-07&quot;</td><td>&quot;burrh101&quot;</td><td>&quot;burrohe01&quot;</td><td>&quot;1878-03-31&quot;</td><td>&quot;1845-02-03&quot;</td></tr><tr><td>&quot;cuthbne01&quot;</td><td>1871</td><td>1</td><td>&quot;PH1&quot;</td><td>null</td><td>28</td><td>150</td><td>47</td><td>37</td><td>7</td><td>5</td><td>3</td><td>30</td><td>16</td><td>2</td><td>10</td><td>2</td><td>null</td><td>null</td><td>null</td><td>null</td><td>1</td><td>1845</td><td>6</td><td>20</td><td>&quot;USA&quot;</td><td>&quot;PA&quot;</td><td>&quot;Philadelphia&quot;</td><td>1905</td><td>2</td><td>6</td><td>&quot;USA&quot;</td><td>&quot;MO&quot;</td><td>&quot;St. Louis&quot;</td><td>&quot;Ned&quot;</td><td>&quot;Cuthbert&quot;</td><td>&quot;Edgar Edward&quot;</td><td>140</td><td>66</td><td>&quot;R&quot;</td><td>&quot;R&quot;</td><td>&quot;1871-05-20&quot;</td><td>&quot;1884-09-04&quot;</td><td>&quot;cuthn101&quot;</td><td>&quot;cuthbne01&quot;</td><td>&quot;1905-02-06&quot;</td><td>&quot;1845-06-20&quot;</td></tr><tr><td>&hellip;</td><td>&hellip;</td><td>&hellip;</td><td>&hellip;</td><td>&hellip;</td><td>&hellip;</td><td>&hellip;</td><td>&hellip;</td><td>&hellip;</td><td>&hellip;</td><td>&hellip;</td><td>&hellip;</td><td>&hellip;</td><td>&hellip;</td><td>&hellip;</td><td>&hellip;</td><td>&hellip;</td><td>&hellip;</td><td>&hellip;</td><td>&hellip;</td><td>&hellip;</td><td>&hellip;</td><td>&hellip;</td><td>&hellip;</td><td>&hellip;</td><td>&hellip;</td><td>&hellip;</td><td>&hellip;</td><td>&hellip;</td><td>&hellip;</td><td>&hellip;</td><td>&hellip;</td><td>&hellip;</td><td>&hellip;</td><td>&hellip;</td><td>&hellip;</td><td>&hellip;</td><td>&hellip;</td><td>&hellip;</td><td>&hellip;</td><td>&hellip;</td><td>&hellip;</td><td>&hellip;</td><td>&hellip;</td><td>&hellip;</td><td>&hellip;</td><td>&hellip;</td></tr><tr><td>&quot;yelicch01&quot;</td><td>2022</td><td>1</td><td>&quot;MIL&quot;</td><td>&quot;NL&quot;</td><td>154</td><td>575</td><td>99</td><td>145</td><td>25</td><td>4</td><td>14</td><td>57</td><td>19</td><td>3</td><td>88</td><td>162</td><td>&quot;5&quot;</td><td>&quot;5&quot;</td><td>&quot;1&quot;</td><td>&quot;2&quot;</td><td>9</td><td>1991</td><td>12</td><td>5</td><td>&quot;USA&quot;</td><td>&quot;CA&quot;</td><td>&quot;Thousand Oaks&quot;</td><td>null</td><td>null</td><td>null</td><td>null</td><td>null</td><td>null</td><td>&quot;Christian&quot;</td><td>&quot;Yelich&quot;</td><td>&quot;Christian Stephen&quot;</td><td>195</td><td>75</td><td>&quot;L&quot;</td><td>&quot;R&quot;</td><td>&quot;2013-07-23&quot;</td><td>&quot;2022-10-05&quot;</td><td>&quot;yelic001&quot;</td><td>&quot;yelicch01&quot;</td><td>null</td><td>&quot;1991-12-05&quot;</td></tr><tr><td>&quot;yepezju01&quot;</td><td>2022</td><td>1</td><td>&quot;SLN&quot;</td><td>&quot;NL&quot;</td><td>76</td><td>253</td><td>27</td><td>64</td><td>13</td><td>0</td><td>12</td><td>30</td><td>0</td><td>0</td><td>16</td><td>61</td><td>&quot;0&quot;</td><td>&quot;1&quot;</td><td>&quot;0&quot;</td><td>&quot;4&quot;</td><td>6</td><td>1998</td><td>2</td><td>19</td><td>&quot;Venezuela&quot;</td><td>&quot;Distrito Federal&quot;</td><td>&quot;Caracas&quot;</td><td>null</td><td>null</td><td>null</td><td>null</td><td>null</td><td>null</td><td>&quot;Juan&quot;</td><td>&quot;Yepez&quot;</td><td>&quot;Juan David&quot;</td><td>200</td><td>73</td><td>&quot;R&quot;</td><td>&quot;R&quot;</td><td>&quot;2022-05-04&quot;</td><td>&quot;2022-10-05&quot;</td><td>&quot;yepej001&quot;</td><td>&quot;yepezju01&quot;</td><td>null</td><td>&quot;1998-02-19&quot;</td></tr><tr><td>&quot;zavalse01&quot;</td><td>2022</td><td>1</td><td>&quot;CHA&quot;</td><td>&quot;AL&quot;</td><td>61</td><td>178</td><td>22</td><td>48</td><td>14</td><td>0</td><td>2</td><td>21</td><td>0</td><td>0</td><td>19</td><td>64</td><td>&quot;0&quot;</td><td>&quot;3&quot;</td><td>&quot;3&quot;</td><td>&quot;2&quot;</td><td>1</td><td>1993</td><td>8</td><td>28</td><td>&quot;USA&quot;</td><td>&quot;TX&quot;</td><td>&quot;Fort Hood&quot;</td><td>null</td><td>null</td><td>null</td><td>null</td><td>null</td><td>null</td><td>&quot;Seby&quot;</td><td>&quot;Zavala&quot;</td><td>&quot;Bernardo Sebastian&quot;</td><td>205</td><td>71</td><td>&quot;R&quot;</td><td>&quot;R&quot;</td><td>&quot;2019-05-25&quot;</td><td>&quot;2022-09-25&quot;</td><td>&quot;zavas001&quot;</td><td>&quot;zavalse01&quot;</td><td>null</td><td>&quot;1993-08-28&quot;</td></tr><tr><td>&quot;zimmebr01&quot;</td><td>2022</td><td>1</td><td>&quot;TOR&quot;</td><td>&quot;AL&quot;</td><td>77</td><td>76</td><td>11</td><td>8</td><td>4</td><td>0</td><td>2</td><td>3</td><td>2</td><td>1</td><td>5</td><td>33</td><td>&quot;0&quot;</td><td>&quot;5&quot;</td><td>&quot;1&quot;</td><td>&quot;0&quot;</td><td>0</td><td>1992</td><td>11</td><td>27</td><td>&quot;USA&quot;</td><td>&quot;CA&quot;</td><td>&quot;San Francisco&quot;</td><td>null</td><td>null</td><td>null</td><td>null</td><td>null</td><td>null</td><td>&quot;Bradley&quot;</td><td>&quot;Zimmer&quot;</td><td>&quot;Bradley Clarke&quot;</td><td>185</td><td>76</td><td>&quot;L&quot;</td><td>&quot;R&quot;</td><td>&quot;2017-05-16&quot;</td><td>&quot;2022-10-05&quot;</td><td>&quot;zimmb001&quot;</td><td>&quot;zimmebr01&quot;</td><td>null</td><td>&quot;1992-11-27&quot;</td></tr><tr><td>&quot;zuninmi01&quot;</td><td>2022</td><td>1</td><td>&quot;TBA&quot;</td><td>&quot;AL&quot;</td><td>36</td><td>115</td><td>7</td><td>17</td><td>3</td><td>0</td><td>5</td><td>16</td><td>0</td><td>0</td><td>6</td><td>46</td><td>&quot;0&quot;</td><td>&quot;1&quot;</td><td>&quot;0&quot;</td><td>&quot;1&quot;</td><td>2</td><td>1991</td><td>3</td><td>25</td><td>&quot;USA&quot;</td><td>&quot;FL&quot;</td><td>&quot;Cape Coral&quot;</td><td>null</td><td>null</td><td>null</td><td>null</td><td>null</td><td>null</td><td>&quot;Mike&quot;</td><td>&quot;Zunino&quot;</td><td>&quot;Michael Accorsi&quot;</td><td>235</td><td>74</td><td>&quot;R&quot;</td><td>&quot;R&quot;</td><td>&quot;2013-06-12&quot;</td><td>&quot;2022-06-09&quot;</td><td>&quot;zunim001&quot;</td><td>&quot;zuninmi01&quot;</td><td>null</td><td>&quot;1991-03-25&quot;</td></tr></tbody></table></div>"
            ]
          },
          "metadata": {},
          "execution_count": 19
        }
      ]
    },
    {
      "cell_type": "code",
      "source": [
        "florida_hr = stats_hr.filter(pl.col(\"birthState\") == \"FL\")\n",
        "print(f\"The number of homeruns that were hit by players born in Florida is {florida_hr['playerID'].n_unique()}.\")"
      ],
      "metadata": {
        "colab": {
          "base_uri": "https://localhost:8080/"
        },
        "id": "ji_qAPoF9ga_",
        "outputId": "c90bad7e-69d8-4134-93f2-5367b77c0ddd"
      },
      "execution_count": 20,
      "outputs": [
        {
          "output_type": "stream",
          "name": "stdout",
          "text": [
            "The number of homeruns that were hit by players born in Florida is 281.\n"
          ]
        }
      ]
    },
    {
      "cell_type": "markdown",
      "metadata": {
        "id": "Pr63NEFcyU1y"
      },
      "source": [
        "#### Part B: Calculate the total number of home runs that were hit by Florida-born players\n",
        "\n",
        "You would like to perform an analysis about how many home runs (`HR`) were hit by players that were born in the `birthState` of Florida (`FL`). Using the new `stats_w_bio` DataFrame that combines batting statistics with biographical information, compute the total number of home runs (`HR`) hit by players who were born (`birthState`) in Florida (`FL`) and name the new column `total_hr`. The DataFrame should have one row and be named `florida_hr`.\n",
        "\n",
        "*Insert a block of code that shows the computation of total home runs hit by players born in Florida. The output of this code block should be a DataFrame.*"
      ]
    },
    {
      "cell_type": "code",
      "execution_count": 21,
      "metadata": {
        "id": "bBGsxFDUyU1y",
        "colab": {
          "base_uri": "https://localhost:8080/"
        },
        "outputId": "fc7ea6fc-ff97-4e75-ba75-ced45df9246c"
      },
      "outputs": [
        {
          "output_type": "stream",
          "name": "stdout",
          "text": [
            "The total number of home runs that were hit by FLorida-born players is 16,225.\n"
          ]
        }
      ],
      "source": [
        "# Calculate total home runs by Florida-born players\n",
        "print(f\"The total number of home runs that were hit by FLorida-born players is {florida_hr['HR'].sum():,}.\")"
      ]
    },
    {
      "cell_type": "markdown",
      "metadata": {
        "id": "d5v5qjkayU1y"
      },
      "source": [
        "## Question 3: What are the average number of career Hits (`H`) for Hall of Fame baseball players?\n",
        "\n",
        "#### Part A: Clean the `HallOfFame` DataFrame\n",
        "\n",
        "You would like to perform an analysis on the batting statistics of Hall of Fame baseball players. In order to answer this question, you'll need to use the `Batting` and `HallOfFame` DataFrames.\n",
        "\n",
        "The first thing that you have to do to perform this analysis is to join the `HallOfFame` data into the `Batting` data to understand which players are \"Hall of Famers\". To join the data correctly, we have to ensure that the `playerID` field is unique in `HallOfFame`. Not every player in the `HallOfFame` DataFrame is a Hall of Famer; their `inducted` field must have the value of `Y` and their `category` field should have the value of `Player`. Name the new DataFrame `hall_inducted`.\n",
        "\n",
        "*Insert a code block to transform the `HallOfFame` DataFrame to ensure that `playerID` is unique.*"
      ]
    },
    {
      "cell_type": "code",
      "execution_count": 22,
      "metadata": {
        "id": "P0lc9qLPyU1y"
      },
      "outputs": [],
      "source": [
        "# Clean HallOfFame DataFrame\n",
        "hall_inducted = HallOfFame.filter((pl.col(\"inducted\") == \"Y\") & (pl.col(\"category\") == \"Player\"))"
      ]
    },
    {
      "cell_type": "code",
      "source": [
        "hall_inducted"
      ],
      "metadata": {
        "colab": {
          "base_uri": "https://localhost:8080/",
          "height": 443
        },
        "id": "wClZ35I1Av4e",
        "outputId": "e8f60d60-0890-4693-c639-7d7387663c6c"
      },
      "execution_count": 23,
      "outputs": [
        {
          "output_type": "execute_result",
          "data": {
            "text/plain": [
              "shape: (270, 9)\n",
              "┌───────────┬────────┬──────────┬─────────┬───┬───────┬──────────┬──────────┬─────────────┐\n",
              "│ playerID  ┆ yearID ┆ votedBy  ┆ ballots ┆ … ┆ votes ┆ inducted ┆ category ┆ needed_note │\n",
              "│ ---       ┆ ---    ┆ ---      ┆ ---     ┆   ┆ ---   ┆ ---      ┆ ---      ┆ ---         │\n",
              "│ str       ┆ i64    ┆ str      ┆ i64     ┆   ┆ i64   ┆ str      ┆ str      ┆ str         │\n",
              "╞═══════════╪════════╪══════════╪═════════╪═══╪═══════╪══════════╪══════════╪═════════════╡\n",
              "│ cobbty01  ┆ 1936   ┆ BBWAA    ┆ 226     ┆ … ┆ 222   ┆ Y        ┆ Player   ┆ null        │\n",
              "│ ruthba01  ┆ 1936   ┆ BBWAA    ┆ 226     ┆ … ┆ 215   ┆ Y        ┆ Player   ┆ null        │\n",
              "│ wagneho01 ┆ 1936   ┆ BBWAA    ┆ 226     ┆ … ┆ 215   ┆ Y        ┆ Player   ┆ null        │\n",
              "│ mathech01 ┆ 1936   ┆ BBWAA    ┆ 226     ┆ … ┆ 205   ┆ Y        ┆ Player   ┆ null        │\n",
              "│ johnswa01 ┆ 1936   ┆ BBWAA    ┆ 226     ┆ … ┆ 189   ┆ Y        ┆ Player   ┆ null        │\n",
              "│ …         ┆ …      ┆ …        ┆ …       ┆ … ┆ …     ┆ …        ┆ …        ┆ …           │\n",
              "│ ortizda01 ┆ 2022   ┆ BBWAA    ┆ 394     ┆ … ┆ 307   ┆ Y        ┆ Player   ┆ null        │\n",
              "│ hodgegi01 ┆ 2022   ┆ Veterans ┆ null    ┆ … ┆ null  ┆ Y        ┆ Player   ┆ null        │\n",
              "│ kaatji01  ┆ 2022   ┆ Veterans ┆ null    ┆ … ┆ null  ┆ Y        ┆ Player   ┆ null        │\n",
              "│ minosmi01 ┆ 2022   ┆ Veterans ┆ null    ┆ … ┆ null  ┆ Y        ┆ Player   ┆ null        │\n",
              "│ olivato01 ┆ 2022   ┆ Veterans ┆ null    ┆ … ┆ null  ┆ Y        ┆ Player   ┆ null        │\n",
              "└───────────┴────────┴──────────┴─────────┴───┴───────┴──────────┴──────────┴─────────────┘"
            ],
            "text/html": [
              "<div><style>\n",
              ".dataframe > thead > tr,\n",
              ".dataframe > tbody > tr {\n",
              "  text-align: right;\n",
              "  white-space: pre-wrap;\n",
              "}\n",
              "</style>\n",
              "<small>shape: (270, 9)</small><table border=\"1\" class=\"dataframe\"><thead><tr><th>playerID</th><th>yearID</th><th>votedBy</th><th>ballots</th><th>needed</th><th>votes</th><th>inducted</th><th>category</th><th>needed_note</th></tr><tr><td>str</td><td>i64</td><td>str</td><td>i64</td><td>i64</td><td>i64</td><td>str</td><td>str</td><td>str</td></tr></thead><tbody><tr><td>&quot;cobbty01&quot;</td><td>1936</td><td>&quot;BBWAA&quot;</td><td>226</td><td>170</td><td>222</td><td>&quot;Y&quot;</td><td>&quot;Player&quot;</td><td>null</td></tr><tr><td>&quot;ruthba01&quot;</td><td>1936</td><td>&quot;BBWAA&quot;</td><td>226</td><td>170</td><td>215</td><td>&quot;Y&quot;</td><td>&quot;Player&quot;</td><td>null</td></tr><tr><td>&quot;wagneho01&quot;</td><td>1936</td><td>&quot;BBWAA&quot;</td><td>226</td><td>170</td><td>215</td><td>&quot;Y&quot;</td><td>&quot;Player&quot;</td><td>null</td></tr><tr><td>&quot;mathech01&quot;</td><td>1936</td><td>&quot;BBWAA&quot;</td><td>226</td><td>170</td><td>205</td><td>&quot;Y&quot;</td><td>&quot;Player&quot;</td><td>null</td></tr><tr><td>&quot;johnswa01&quot;</td><td>1936</td><td>&quot;BBWAA&quot;</td><td>226</td><td>170</td><td>189</td><td>&quot;Y&quot;</td><td>&quot;Player&quot;</td><td>null</td></tr><tr><td>&hellip;</td><td>&hellip;</td><td>&hellip;</td><td>&hellip;</td><td>&hellip;</td><td>&hellip;</td><td>&hellip;</td><td>&hellip;</td><td>&hellip;</td></tr><tr><td>&quot;ortizda01&quot;</td><td>2022</td><td>&quot;BBWAA&quot;</td><td>394</td><td>296</td><td>307</td><td>&quot;Y&quot;</td><td>&quot;Player&quot;</td><td>null</td></tr><tr><td>&quot;hodgegi01&quot;</td><td>2022</td><td>&quot;Veterans&quot;</td><td>null</td><td>null</td><td>null</td><td>&quot;Y&quot;</td><td>&quot;Player&quot;</td><td>null</td></tr><tr><td>&quot;kaatji01&quot;</td><td>2022</td><td>&quot;Veterans&quot;</td><td>null</td><td>null</td><td>null</td><td>&quot;Y&quot;</td><td>&quot;Player&quot;</td><td>null</td></tr><tr><td>&quot;minosmi01&quot;</td><td>2022</td><td>&quot;Veterans&quot;</td><td>null</td><td>null</td><td>null</td><td>&quot;Y&quot;</td><td>&quot;Player&quot;</td><td>null</td></tr><tr><td>&quot;olivato01&quot;</td><td>2022</td><td>&quot;Veterans&quot;</td><td>null</td><td>null</td><td>null</td><td>&quot;Y&quot;</td><td>&quot;Player&quot;</td><td>null</td></tr></tbody></table></div>"
            ]
          },
          "metadata": {},
          "execution_count": 23
        }
      ]
    },
    {
      "cell_type": "markdown",
      "metadata": {
        "id": "A6z9HFdjyU1y"
      },
      "source": [
        "#### Part B: Find the average number of career hits across Hall of Fame players\n",
        "\n",
        "Join the `hall_inducted` data into the `Batting` data by `playerID`. Aggregate the data to compute the average total hits (`H`) across all Hall of Fame players. To do this, you will first need to calculate the total number of hits for each player and then calculate the average hits across all players. Call the new column `average_hits`. The resulting DataFrame should have one row and be named `hof_hits`.\n",
        "\n",
        "*Insert a code block that joins the `Batting` and the `hall_inducted` data together and then calculates the average number of career hits (`H`) across all Hall of Fame players. The output of this code block should be a DataFrame.*"
      ]
    },
    {
      "cell_type": "code",
      "execution_count": 24,
      "metadata": {
        "id": "JzWY4cVbyU1y"
      },
      "outputs": [],
      "source": [
        "# Calculate average career hits for Hall of Fame players\n",
        "data_hall = hall_inducted.join(\n",
        "    Batting,\n",
        "    on = \"playerID\",\n",
        "    how = \"left\"\n",
        ")"
      ]
    },
    {
      "cell_type": "code",
      "source": [
        "agg_data_hall = (\n",
        "    data_hall\n",
        "    .group_by([\"playerID\"])\n",
        "    .agg(pl.col(\"H\").sum().alias(\"total_hits\")\n",
        "    )\n",
        ")"
      ],
      "metadata": {
        "id": "ZjoUxnJZBkon"
      },
      "execution_count": 25,
      "outputs": []
    },
    {
      "cell_type": "code",
      "source": [
        "agg_data_hall"
      ],
      "metadata": {
        "colab": {
          "base_uri": "https://localhost:8080/",
          "height": 443
        },
        "id": "eLRsbIqVCkTn",
        "outputId": "4774e379-56dc-489a-b8c6-20d3dafc7096"
      },
      "execution_count": 26,
      "outputs": [
        {
          "output_type": "execute_result",
          "data": {
            "text/plain": [
              "shape: (270, 2)\n",
              "┌───────────┬────────────┐\n",
              "│ playerID  ┆ total_hits │\n",
              "│ ---       ┆ ---        │\n",
              "│ str       ┆ i64        │\n",
              "╞═══════════╪════════════╡\n",
              "│ benchjo01 ┆ 2048       │\n",
              "│ haineje01 ┆ 209        │\n",
              "│ wilsoha01 ┆ 1461       │\n",
              "│ dawsoan01 ┆ 2774       │\n",
              "│ dandrra99 ┆ 0          │\n",
              "│ …         ┆ …          │\n",
              "│ broutda01 ┆ 2303       │\n",
              "│ robinfr02 ┆ 2943       │\n",
              "│ hillpe99  ┆ 0          │\n",
              "│ dobyla01  ┆ 1515       │\n",
              "│ paigesa01 ┆ 12         │\n",
              "└───────────┴────────────┘"
            ],
            "text/html": [
              "<div><style>\n",
              ".dataframe > thead > tr,\n",
              ".dataframe > tbody > tr {\n",
              "  text-align: right;\n",
              "  white-space: pre-wrap;\n",
              "}\n",
              "</style>\n",
              "<small>shape: (270, 2)</small><table border=\"1\" class=\"dataframe\"><thead><tr><th>playerID</th><th>total_hits</th></tr><tr><td>str</td><td>i64</td></tr></thead><tbody><tr><td>&quot;benchjo01&quot;</td><td>2048</td></tr><tr><td>&quot;haineje01&quot;</td><td>209</td></tr><tr><td>&quot;wilsoha01&quot;</td><td>1461</td></tr><tr><td>&quot;dawsoan01&quot;</td><td>2774</td></tr><tr><td>&quot;dandrra99&quot;</td><td>0</td></tr><tr><td>&hellip;</td><td>&hellip;</td></tr><tr><td>&quot;broutda01&quot;</td><td>2303</td></tr><tr><td>&quot;robinfr02&quot;</td><td>2943</td></tr><tr><td>&quot;hillpe99&quot;</td><td>0</td></tr><tr><td>&quot;dobyla01&quot;</td><td>1515</td></tr><tr><td>&quot;paigesa01&quot;</td><td>12</td></tr></tbody></table></div>"
            ]
          },
          "metadata": {},
          "execution_count": 26
        }
      ]
    },
    {
      "cell_type": "code",
      "source": [
        "hof_hits = agg_data_hall.select(pl.col(\"total_hits\").mean().alias(\"average_hits\"))\n",
        "print(f\"The average number of career hits across Hall of Fame players is {hof_hits.item():,.2f}.\")"
      ],
      "metadata": {
        "colab": {
          "base_uri": "https://localhost:8080/"
        },
        "id": "jR4jwAP_CvOT",
        "outputId": "56179b9d-3582-4ee1-e4df-467ce7deac93"
      },
      "execution_count": 27,
      "outputs": [
        {
          "output_type": "stream",
          "name": "stdout",
          "text": [
            "The average number of career hits across Hall of Fame players is 1,551.93.\n"
          ]
        }
      ]
    }
  ],
  "metadata": {
    "kernelspec": {
      "display_name": "Python 3",
      "language": "python",
      "name": "python3"
    },
    "language_info": {
      "codemirror_mode": {
        "name": "ipython",
        "version": 3
      },
      "file_extension": ".py",
      "mimetype": "text/x-python",
      "name": "python",
      "nbconvert_exporter": "python",
      "pygments_lexer": "ipython3",
      "version": "3.12.0"
    },
    "colab": {
      "provenance": []
    }
  },
  "nbformat": 4,
  "nbformat_minor": 0
}